{
 "cells": [
  {
   "cell_type": "code",
   "execution_count": 35,
   "metadata": {},
   "outputs": [],
   "source": [
    "import numpy as np\n",
    "from datascience import *\n",
    "\n",
    "%matplotlib inline\n",
    "import matplotlib.pyplot as plots\n",
    "plots.style.use('fivethirtyeight')\n",
    "import warnings\n",
    "warnings.simplefilter('ignore', FutureWarning)\n",
    "\n",
    "\n",
    "import plotly.graph_objects as go"
   ]
  },
  {
   "cell_type": "markdown",
   "metadata": {},
   "source": [
    "## Project for CMSC/STAT 118 - Fall Quarter 2019 (due November 12)##\n",
    "\n",
    "This is not a group project. You may discuss the project with other students but you should code and write the report independently. You should acknowledge any help in writing. The score will be based on:\n",
    "-  clarity an soundness of the arguments and conclusions; \n",
    "-  use of data to back up arguments and analysis quality;  \n",
    "-  insightfulness of the results;\n",
    "-  quality of the data vizualization, summaries used, and overall presentation.\n",
    "\n",
    "The project is inspired by the current Fall Data Challenge from the American Statistical Association. You can find information about it here:\n",
    "https://thisisstatistics.org/falldatachallenge/\n",
    "\n",
    "The goal of the ASA Data challenge is to use \"statistical and data visualization skills [...] to help find ways to reduce and resolve the homelessness crisis, using HUD’s 2018 Point-in-Time Estimates of Homelessness in the U.S. dataset\":\n",
    "\n",
    "https://www.hudexchange.info/resource/5783/2018-ahar-part-1-pit-estimates-of-homelessness-in-the-us/\n",
    "\n",
    "The goal of this project is gain insight on homelessness using the tools you have learned so far in this class.\n",
    "\n",
    "### The Data ###\n",
    "\n",
    "You can use any data you can find to answer the questions below (note that the website for the ASA challenge contains links to various datasets), but you need to specify the provenance of the data in your report. \n",
    "\n",
    "One interesting question is on the city-level homelessness estimates, and we will begin by using data corresponding to \"Continuums of Care\" (CoC), which are local planning bodies responsible for coordinating the full range of homelessness services in a geographic area, which may cover a city, county, metropolitan area, or an entire state.\" To this end, we have downloaded the files [2007 - 2018 Point-in-Time Estimates by CoC](https://www.hudexchange.info/resources/documents/2007-2018-HIC-Counts-by-CoC.xlsx) and [2007 - 2018 Housing Inventory Count by CoC](https://www.hudexchange.info/resources/documents/2007-2018-PIT-Counts-by-CoC.xlsx) from the linked resources page. These are Excel files with separate tabs for each year - to make it easier on you, we've aggregated all the years into one file and selected some important columns. \n",
    "\n",
    "We saved the results into files that can be downloaded from Canvas. If some of the columns/data require more information, you can find it in the files available from HUD. Note that not all columns of data were available in all years.\n",
    "\n",
    "You should go back to the original datasets and import more data if they are relevant for your analyses.\n",
    "\n",
    "#### The next cell that contains code that will allow you to read the data into a tables called \"pit_table\" and \"beds_table\". It also shows the first 10 rows. ####"
   ]
  },
  {
   "cell_type": "code",
   "execution_count": 3,
   "metadata": {
    "scrolled": true
   },
   "outputs": [
    {
     "data": {
      "text/html": [
       "<table border=\"1\" class=\"dataframe\">\n",
       "    <thead>\n",
       "        <tr>\n",
       "            <th>CoC Number</th> <th>CoC Name</th> <th>Overall Homeless</th> <th>Sheltered Total Homeless</th> <th>Unsheltered Homeless</th> <th>Homeless Individuals</th> <th>Sheltered Total Homeless Individuals</th> <th>Unsheltered Homeless Individuals</th> <th>Homeless People in Families</th> <th>Sheltered Total Homeless People in Families</th> <th>Unsheltered Homeless People in Families</th> <th>Homeless Family Households</th> <th>Sheltered Total Homeless Family Households</th> <th>Unsheltered Homeless Family Households</th> <th>Chronically Homeless Individuals</th> <th>Sheltered Total Chronically Homeless Individuals</th> <th>Unsheltered Chronically Homeless Individuals</th> <th>Year</th>\n",
       "        </tr>\n",
       "    </thead>\n",
       "    <tbody>\n",
       "        <tr>\n",
       "            <td>AK-500    </td> <td>Anchorage CoC                                       </td> <td>1094            </td> <td>1000                    </td> <td>94                  </td> <td>814                 </td> <td>720                                 </td> <td>94                              </td> <td>280                        </td> <td>280                                        </td> <td>0                                      </td> <td>87                        </td> <td>87                                        </td> <td>0                                     </td> <td>163                             </td> <td>136                                             </td> <td>27                                          </td> <td>2018</td>\n",
       "        </tr>\n",
       "        <tr>\n",
       "            <td>AK-501    </td> <td>Alaska Balance of State CoC                         </td> <td>922             </td> <td>707                     </td> <td>215                 </td> <td>620                 </td> <td>453                                 </td> <td>167                             </td> <td>302                        </td> <td>254                                        </td> <td>48                                     </td> <td>106                       </td> <td>88                                        </td> <td>18                                    </td> <td>160                             </td> <td>107                                             </td> <td>53                                          </td> <td>2018</td>\n",
       "        </tr>\n",
       "        <tr>\n",
       "            <td>AL-500    </td> <td>Birmingham/Jefferson, St. Clair, Shelby Counties CoC</td> <td>901             </td> <td>682                     </td> <td>219                 </td> <td>720                 </td> <td>501                                 </td> <td>219                             </td> <td>181                        </td> <td>181                                        </td> <td>0                                      </td> <td>54                        </td> <td>54                                        </td> <td>0                                     </td> <td>114                             </td> <td>90                                              </td> <td>24                                          </td> <td>2018</td>\n",
       "        </tr>\n",
       "        <tr>\n",
       "            <td>AL-501    </td> <td>Mobile City & County/Baldwin County CoC             </td> <td>551             </td> <td>318                     </td> <td>233                 </td> <td>399                 </td> <td>183                                 </td> <td>216                             </td> <td>152                        </td> <td>135                                        </td> <td>17                                     </td> <td>48                        </td> <td>42                                        </td> <td>6                                     </td> <td>59                              </td> <td>11                                              </td> <td>48                                          </td> <td>2018</td>\n",
       "        </tr>\n",
       "        <tr>\n",
       "            <td>AL-502    </td> <td>Florence/Northwest Alabama CoC                      </td> <td>256             </td> <td>234                     </td> <td>22                  </td> <td>166                 </td> <td>144                                 </td> <td>22                              </td> <td>90                         </td> <td>90                                         </td> <td>0                                      </td> <td>41                        </td> <td>41                                        </td> <td>0                                     </td> <td>77                              </td> <td>63                                              </td> <td>14                                          </td> <td>2018</td>\n",
       "        </tr>\n",
       "        <tr>\n",
       "            <td>AL-503    </td> <td>Huntsville/North Alabama CoC                        </td> <td>424             </td> <td>308                     </td> <td>116                 </td> <td>336                 </td> <td>230                                 </td> <td>106                             </td> <td>88                         </td> <td>78                                         </td> <td>10                                     </td> <td>30                        </td> <td>27                                        </td> <td>3                                     </td> <td>107                             </td> <td>57                                              </td> <td>50                                          </td> <td>2018</td>\n",
       "        </tr>\n",
       "        <tr>\n",
       "            <td>AL-504    </td> <td>Montgomery City & County CoC                        </td> <td>369             </td> <td>300                     </td> <td>69                  </td> <td>272                 </td> <td>203                                 </td> <td>69                              </td> <td>97                         </td> <td>97                                         </td> <td>0                                      </td> <td>28                        </td> <td>28                                        </td> <td>0                                     </td> <td>63                              </td> <td>41                                              </td> <td>22                                          </td> <td>2018</td>\n",
       "        </tr>\n",
       "        <tr>\n",
       "            <td>AL-505    </td> <td>Gadsden/Northeast Alabama CoC                       </td> <td>146             </td> <td>86                      </td> <td>60                  </td> <td>119                 </td> <td>59                                  </td> <td>60                              </td> <td>27                         </td> <td>27                                         </td> <td>0                                      </td> <td>8                         </td> <td>8                                         </td> <td>0                                     </td> <td>35                              </td> <td>7                                               </td> <td>28                                          </td> <td>2018</td>\n",
       "        </tr>\n",
       "        <tr>\n",
       "            <td>AL-506    </td> <td>Tuscaloosa City & County CoC                        </td> <td>57              </td> <td>56                      </td> <td>1                   </td> <td>35                  </td> <td>34                                  </td> <td>1                               </td> <td>22                         </td> <td>22                                         </td> <td>0                                      </td> <td>8                         </td> <td>8                                         </td> <td>0                                     </td> <td>4                               </td> <td>4                                               </td> <td>0                                           </td> <td>2018</td>\n",
       "        </tr>\n",
       "        <tr>\n",
       "            <td>AL-507    </td> <td>Alabama Balance of State CoC                        </td> <td>730             </td> <td>440                     </td> <td>290                 </td> <td>523                 </td> <td>339                                 </td> <td>184                             </td> <td>207                        </td> <td>101                                        </td> <td>106                                    </td> <td>63                        </td> <td>35                                        </td> <td>28                                    </td> <td>13                              </td> <td>4                                               </td> <td>9                                           </td> <td>2018</td>\n",
       "        </tr>\n",
       "    </tbody>\n",
       "</table>\n",
       "<p>... (4714 rows omitted)</p>"
      ],
      "text/plain": [
       "CoC Number | CoC Name                                             | Overall Homeless | Sheltered Total Homeless | Unsheltered Homeless | Homeless Individuals | Sheltered Total Homeless Individuals | Unsheltered Homeless Individuals | Homeless People in Families | Sheltered Total Homeless People in Families | Unsheltered Homeless People in Families | Homeless Family Households | Sheltered Total Homeless Family Households | Unsheltered Homeless Family Households | Chronically Homeless Individuals | Sheltered Total Chronically Homeless Individuals | Unsheltered Chronically Homeless Individuals | Year\n",
       "AK-500     | Anchorage CoC                                        | 1094             | 1000                     | 94                   | 814                  | 720                                  | 94                               | 280                         | 280                                         | 0                                       | 87                         | 87                                         | 0                                      | 163                              | 136                                              | 27                                           | 2018\n",
       "AK-501     | Alaska Balance of State CoC                          | 922              | 707                      | 215                  | 620                  | 453                                  | 167                              | 302                         | 254                                         | 48                                      | 106                        | 88                                         | 18                                     | 160                              | 107                                              | 53                                           | 2018\n",
       "AL-500     | Birmingham/Jefferson, St. Clair, Shelby Counties CoC | 901              | 682                      | 219                  | 720                  | 501                                  | 219                              | 181                         | 181                                         | 0                                       | 54                         | 54                                         | 0                                      | 114                              | 90                                               | 24                                           | 2018\n",
       "AL-501     | Mobile City & County/Baldwin County CoC              | 551              | 318                      | 233                  | 399                  | 183                                  | 216                              | 152                         | 135                                         | 17                                      | 48                         | 42                                         | 6                                      | 59                               | 11                                               | 48                                           | 2018\n",
       "AL-502     | Florence/Northwest Alabama CoC                       | 256              | 234                      | 22                   | 166                  | 144                                  | 22                               | 90                          | 90                                          | 0                                       | 41                         | 41                                         | 0                                      | 77                               | 63                                               | 14                                           | 2018\n",
       "AL-503     | Huntsville/North Alabama CoC                         | 424              | 308                      | 116                  | 336                  | 230                                  | 106                              | 88                          | 78                                          | 10                                      | 30                         | 27                                         | 3                                      | 107                              | 57                                               | 50                                           | 2018\n",
       "AL-504     | Montgomery City & County CoC                         | 369              | 300                      | 69                   | 272                  | 203                                  | 69                               | 97                          | 97                                          | 0                                       | 28                         | 28                                         | 0                                      | 63                               | 41                                               | 22                                           | 2018\n",
       "AL-505     | Gadsden/Northeast Alabama CoC                        | 146              | 86                       | 60                   | 119                  | 59                                   | 60                               | 27                          | 27                                          | 0                                       | 8                          | 8                                          | 0                                      | 35                               | 7                                                | 28                                           | 2018\n",
       "AL-506     | Tuscaloosa City & County CoC                         | 57               | 56                       | 1                    | 35                   | 34                                   | 1                                | 22                          | 22                                          | 0                                       | 8                          | 8                                          | 0                                      | 4                                | 4                                                | 0                                            | 2018\n",
       "AL-507     | Alabama Balance of State CoC                         | 730              | 440                      | 290                  | 523                  | 339                                  | 184                              | 207                         | 101                                         | 106                                     | 63                         | 35                                         | 28                                     | 13                               | 4                                                | 9                                            | 2018\n",
       "... (4714 rows omitted)"
      ]
     },
     "execution_count": 3,
     "metadata": {},
     "output_type": "execute_result"
    }
   ],
   "source": [
    "pit_table=Table.read_table('2007-2018-PIT-Counts-by-CoC.csv')\n",
    "beds_table=Table.read_table('2007-2018-Bed-Counts-by-CoC.csv')\n",
    "pit_table"
   ]
  },
  {
   "cell_type": "code",
   "execution_count": 4,
   "metadata": {
    "scrolled": true
   },
   "outputs": [
    {
     "data": {
      "text/html": [
       "<table border=\"1\" class=\"dataframe\">\n",
       "    <thead>\n",
       "        <tr>\n",
       "            <th>Year</th> <th>CoC Number</th> <th>Total Year-Round Beds (ES, TH, SH)</th> <th>Total Year-Round Beds (ES)</th> <th>Total Year-Round Beds (SH)</th> <th>Total Year-Round Beds (TH)</th>\n",
       "        </tr>\n",
       "    </thead>\n",
       "    <tbody>\n",
       "        <tr>\n",
       "            <td>2018</td> <td>AK-500    </td> <td>1028                              </td> <td>749                       </td> <td>0                         </td> <td>279                       </td>\n",
       "        </tr>\n",
       "        <tr>\n",
       "            <td>2018</td> <td>NY-512    </td> <td>150                               </td> <td>110                       </td> <td>0                         </td> <td>40                        </td>\n",
       "        </tr>\n",
       "        <tr>\n",
       "            <td>2018</td> <td>NY-510    </td> <td>40                                </td> <td>21                        </td> <td>0                         </td> <td>19                        </td>\n",
       "        </tr>\n",
       "        <tr>\n",
       "            <td>2018</td> <td>NY-508    </td> <td>1055                              </td> <td>695                       </td> <td>16                        </td> <td>344                       </td>\n",
       "        </tr>\n",
       "        <tr>\n",
       "            <td>2018</td> <td>NY-507    </td> <td>227                               </td> <td>178                       </td> <td>0                         </td> <td>49                        </td>\n",
       "        </tr>\n",
       "        <tr>\n",
       "            <td>2018</td> <td>NY-505    </td> <td>759                               </td> <td>557                       </td> <td>0                         </td> <td>202                       </td>\n",
       "        </tr>\n",
       "        <tr>\n",
       "            <td>2018</td> <td>NY-504    </td> <td>50                                </td> <td>50                        </td> <td>0                         </td> <td>0                         </td>\n",
       "        </tr>\n",
       "        <tr>\n",
       "            <td>2018</td> <td>NY-503    </td> <td>456                               </td> <td>304                       </td> <td>0                         </td> <td>152                       </td>\n",
       "        </tr>\n",
       "        <tr>\n",
       "            <td>2018</td> <td>NY-501    </td> <td>147                               </td> <td>79                        </td> <td>0                         </td> <td>68                        </td>\n",
       "        </tr>\n",
       "        <tr>\n",
       "            <td>2018</td> <td>NY-500    </td> <td>700                               </td> <td>555                       </td> <td>12                        </td> <td>133                       </td>\n",
       "        </tr>\n",
       "    </tbody>\n",
       "</table>\n",
       "<p>... (5096 rows omitted)</p>"
      ],
      "text/plain": [
       "Year | CoC Number | Total Year-Round Beds (ES, TH, SH) | Total Year-Round Beds (ES) | Total Year-Round Beds (SH) | Total Year-Round Beds (TH)\n",
       "2018 | AK-500     | 1028                               | 749                        | 0                          | 279\n",
       "2018 | NY-512     | 150                                | 110                        | 0                          | 40\n",
       "2018 | NY-510     | 40                                 | 21                         | 0                          | 19\n",
       "2018 | NY-508     | 1055                               | 695                        | 16                         | 344\n",
       "2018 | NY-507     | 227                                | 178                        | 0                          | 49\n",
       "2018 | NY-505     | 759                                | 557                        | 0                          | 202\n",
       "2018 | NY-504     | 50                                 | 50                         | 0                          | 0\n",
       "2018 | NY-503     | 456                                | 304                        | 0                          | 152\n",
       "2018 | NY-501     | 147                                | 79                         | 0                          | 68\n",
       "2018 | NY-500     | 700                                | 555                        | 12                         | 133\n",
       "... (5096 rows omitted)"
      ]
     },
     "execution_count": 4,
     "metadata": {},
     "output_type": "execute_result"
    }
   ],
   "source": [
    "# ES=Emergency Shelter, TH=Transitional Housing, SH= Safe Haven\n",
    "beds_table"
   ]
  },
  {
   "cell_type": "code",
   "execution_count": 5,
   "metadata": {},
   "outputs": [
    {
     "data": {
      "text/plain": [
       "462"
      ]
     },
     "execution_count": 5,
     "metadata": {},
     "output_type": "execute_result"
    }
   ],
   "source": [
    "# the function isnan in the numpy library allows you to count the number of missing values in an array\n",
    "# you can use it to investigate missing data in each column\n",
    "sum(np.isnan(beds_table.column('Total Year-Round Beds (SH)')))"
   ]
  },
  {
   "cell_type": "markdown",
   "metadata": {},
   "source": [
    "## The Assignment##\n",
    "\n",
    "### Report on your findings on homelessness. Can you suggest interventions or policies for  helping solve homelessness? You must submit two files: ###\n",
    "\n",
    "1. The Jupyter Notebook that contains all the code you use for the analysis. You do not need to submit data you used, but just indicate how you obtained it in the Notebook.\n",
    "\n",
    "2. A PDF report of your findings. **This report should be at most 4 pages long, with at most two pages of text.** Use data visualization and data summaries to justify your conclusions.\n",
    "\n",
    "The report should answer at the minimum the following questions:\n",
    "\n",
    "A.  Are there any temporal patterns in the number of homeless people in Chicago and in Los Angeles?\n",
    "\n",
    "B.  Are there any spatial patterns in the number of homeless people? (Northern versus Southern states, Midwest versus the Coasts)\n",
    "\n",
    "C. Are there any patterns in the bed inventory data?\n",
    "\n",
    "D. How does beds availability affect homelessness?\n",
    "\n",
    "E. What are possible ways to reduce and resolve the homelessness crisis?"
   ]
  },
  {
   "cell_type": "code",
   "execution_count": 6,
   "metadata": {},
   "outputs": [
    {
     "data": {
      "image/png": "[encoded data removed]",
      "text/plain": [
       "<Figure size 432x288 with 1 Axes>"
      ]
     },
     "metadata": {},
     "output_type": "display_data"
    },
    {
     "data": {
      "image/png": "[encoded data removed]",
      "text/plain": [
       "<Figure size 432x288 with 1 Axes>"
      ]
     },
     "metadata": {},
     "output_type": "display_data"
    },
    {
     "data": {
      "image/png": "[encoded data removed]",
      "text/plain": [
       "<Figure size 432x288 with 1 Axes>"
      ]
     },
     "metadata": {},
     "output_type": "display_data"
    },
    {
     "data": {
      "image/png": "[encoded data removed]",
      "text/plain": [
       "<Figure size 432x288 with 1 Axes>"
      ]
     },
     "metadata": {},
     "output_type": "display_data"
    }
   ],
   "source": [
    "chicago=pit_table.where(\"CoC Name\", \"Chicago CoC\").sort(\"Year\")\n",
    "los = pit_table.where(\"CoC Name\", \"Los Angeles City & County CoC\").sort(\"Year\")\n",
    "chicago.bar(\"Year\", \"Overall Homeless\")\n",
    "los.bar(\"Year\", \"Overall Homeless\")\n",
    "\n",
    "chicago_delta = np.insert(np.diff(chicago.column(\"Overall Homeless\")),0,0)\n",
    "chicago_delta_table = chicago.with_column(\"Delta\", chicago_delta)\n",
    "chicago_delta_table.plot(\"Year\", \"Delta\")\n",
    "\n",
    "los_delta = np.insert(np.diff(los.column(\"Overall Homeless\")),0,0)\n",
    "los_delta_table = los.with_column(\"Delta\", los_delta)\n",
    "los_delta_table.plot(\"Year\", \"Delta\")"
   ]
  },
  {
   "cell_type": "code",
   "execution_count": 25,
   "metadata": {},
   "outputs": [
    {
     "data": {
      "text/html": [
       "<table border=\"1\" class=\"dataframe\">\n",
       "    <thead>\n",
       "        <tr>\n",
       "            <th>State Code</th> <th>CoC Number sum</th> <th>CoC Name sum</th> <th>Overall Homeless sum</th> <th>Sheltered Total Homeless sum</th> <th>Unsheltered Homeless sum</th> <th>Homeless Individuals sum</th> <th>Sheltered Total Homeless Individuals sum</th> <th>Unsheltered Homeless Individuals sum</th> <th>Homeless People in Families sum</th> <th>Sheltered Total Homeless People in Families sum</th> <th>Unsheltered Homeless People in Families sum</th> <th>Homeless Family Households sum</th> <th>Sheltered Total Homeless Family Households sum</th> <th>Unsheltered Homeless Family Households sum</th> <th>Chronically Homeless Individuals sum</th> <th>Sheltered Total Chronically Homeless Individuals sum</th> <th>Unsheltered Chronically Homeless Individuals sum</th> <th>Year sum</th>\n",
       "        </tr>\n",
       "    </thead>\n",
       "    <tbody>\n",
       "        <tr>\n",
       "            <td>AK        </td> <td>              </td> <td>            </td> <td>2016                </td> <td>1707                        </td> <td>309                     </td> <td>1434                    </td> <td>1173                                    </td> <td>261                                 </td> <td>582                            </td> <td>534                                            </td> <td>48                                         </td> <td>193                           </td> <td>175                                           </td> <td>18                                        </td> <td>323                                 </td> <td>243                                                 </td> <td>80                                              </td> <td>4036    </td>\n",
       "        </tr>\n",
       "        <tr>\n",
       "            <td>AL        </td> <td>              </td> <td>            </td> <td>3434                </td> <td>2424                        </td> <td>1010                    </td> <td>2570                    </td> <td>1693                                    </td> <td>877                                 </td> <td>864                            </td> <td>731                                            </td> <td>133                                        </td> <td>280                           </td> <td>243                                           </td> <td>37                                        </td> <td>472                                 </td> <td>277                                                 </td> <td>195                                             </td> <td>16144   </td>\n",
       "        </tr>\n",
       "        <tr>\n",
       "            <td>AR        </td> <td>              </td> <td>            </td> <td>2712                </td> <td>1455                        </td> <td>1257                    </td> <td>2280                    </td> <td>1081                                    </td> <td>1199                                </td> <td>432                            </td> <td>374                                            </td> <td>58                                         </td> <td>147                           </td> <td>127                                           </td> <td>20                                        </td> <td>453                                 </td> <td>153                                                 </td> <td>300                                             </td> <td>12108   </td>\n",
       "        </tr>\n",
       "        <tr>\n",
       "            <td>AZ        </td> <td>              </td> <td>            </td> <td>9865                </td> <td>5799                        </td> <td>4066                    </td> <td>7259                    </td> <td>3354                                    </td> <td>3905                                </td> <td>2606                           </td> <td>2445                                           </td> <td>161                                        </td> <td>792                           </td> <td>745                                           </td> <td>47                                        </td> <td>1740                                </td> <td>564                                                 </td> <td>1176                                            </td> <td>6054    </td>\n",
       "        </tr>\n",
       "        <tr>\n",
       "            <td>CA        </td> <td>              </td> <td>            </td> <td>129972              </td> <td>40429                       </td> <td>89543                   </td> <td>109008                  </td> <td>23635                                   </td> <td>85373                               </td> <td>20964                          </td> <td>16794                                          </td> <td>4170                                       </td> <td>6702                          </td> <td>5372                                          </td> <td>1330                                      </td> <td>32668                               </td> <td>4857                                                </td> <td>27811                                           </td> <td>86774   </td>\n",
       "        </tr>\n",
       "        <tr>\n",
       "            <td>CO        </td> <td>              </td> <td>            </td> <td>10857               </td> <td>6528                        </td> <td>4329                    </td> <td>7607                    </td> <td>4302                                    </td> <td>3305                                </td> <td>3250                           </td> <td>2226                                           </td> <td>1024                                       </td> <td>990                           </td> <td>689                                           </td> <td>301                                       </td> <td>2571                                </td> <td>1099                                                </td> <td>1472                                            </td> <td>6054    </td>\n",
       "        </tr>\n",
       "        <tr>\n",
       "            <td>CT        </td> <td>              </td> <td>            </td> <td>3976                </td> <td>3395                        </td> <td>581                     </td> <td>2280                    </td> <td>1699                                    </td> <td>581                                 </td> <td>1696                           </td> <td>1696                                           </td> <td>0                                          </td> <td>553                           </td> <td>553                                           </td> <td>0                                         </td> <td>298                                 </td> <td>195                                                 </td> <td>103                                             </td> <td>4036    </td>\n",
       "        </tr>\n",
       "        <tr>\n",
       "            <td>DC        </td> <td>              </td> <td>            </td> <td>6904                </td> <td>6304                        </td> <td>600                     </td> <td>3770                    </td> <td>3170                                    </td> <td>600                                 </td> <td>3134                           </td> <td>3134                                           </td> <td>0                                          </td> <td>924                           </td> <td>924                                           </td> <td>0                                         </td> <td>1586                                </td> <td>1286                                                </td> <td>300                                             </td> <td>2018    </td>\n",
       "        </tr>\n",
       "        <tr>\n",
       "            <td>DE        </td> <td>              </td> <td>            </td> <td>1082                </td> <td>989                         </td> <td>93                      </td> <td>708                     </td> <td>615                                     </td> <td>93                                  </td> <td>374                            </td> <td>374                                            </td> <td>0                                          </td> <td>125                           </td> <td>125                                           </td> <td>0                                         </td> <td>162                                 </td> <td>143                                                 </td> <td>19                                              </td> <td>2018    </td>\n",
       "        </tr>\n",
       "        <tr>\n",
       "            <td>FL        </td> <td>              </td> <td>            </td> <td>31030               </td> <td>17637                       </td> <td>13393                   </td> <td>21443                   </td> <td>10686                                   </td> <td>10757                               </td> <td>9587                           </td> <td>6951                                           </td> <td>2636                                       </td> <td>2757                          </td> <td>2070                                          </td> <td>687                                       </td> <td>4543                                </td> <td>1237                                                </td> <td>3306                                            </td> <td>54486   </td>\n",
       "        </tr>\n",
       "    </tbody>\n",
       "</table>\n",
       "<p>... (45 rows omitted)</p>"
      ],
      "text/plain": [
       "State Code | CoC Number sum | CoC Name sum | Overall Homeless sum | Sheltered Total Homeless sum | Unsheltered Homeless sum | Homeless Individuals sum | Sheltered Total Homeless Individuals sum | Unsheltered Homeless Individuals sum | Homeless People in Families sum | Sheltered Total Homeless People in Families sum | Unsheltered Homeless People in Families sum | Homeless Family Households sum | Sheltered Total Homeless Family Households sum | Unsheltered Homeless Family Households sum | Chronically Homeless Individuals sum | Sheltered Total Chronically Homeless Individuals sum | Unsheltered Chronically Homeless Individuals sum | Year sum\n",
       "AK         |                |              | 2016                 | 1707                         | 309                      | 1434                     | 1173                                     | 261                                  | 582                             | 534                                             | 48                                          | 193                            | 175                                            | 18                                         | 323                                  | 243                                                  | 80                                               | 4036\n",
       "AL         |                |              | 3434                 | 2424                         | 1010                     | 2570                     | 1693                                     | 877                                  | 864                             | 731                                             | 133                                         | 280                            | 243                                            | 37                                         | 472                                  | 277                                                  | 195                                              | 16144\n",
       "AR         |                |              | 2712                 | 1455                         | 1257                     | 2280                     | 1081                                     | 1199                                 | 432                             | 374                                             | 58                                          | 147                            | 127                                            | 20                                         | 453                                  | 153                                                  | 300                                              | 12108\n",
       "AZ         |                |              | 9865                 | 5799                         | 4066                     | 7259                     | 3354                                     | 3905                                 | 2606                            | 2445                                            | 161                                         | 792                            | 745                                            | 47                                         | 1740                                 | 564                                                  | 1176                                             | 6054\n",
       "CA         |                |              | 129972               | 40429                        | 89543                    | 109008                   | 23635                                    | 85373                                | 20964                           | 16794                                           | 4170                                        | 6702                           | 5372                                           | 1330                                       | 32668                                | 4857                                                 | 27811                                            | 86774\n",
       "CO         |                |              | 10857                | 6528                         | 4329                     | 7607                     | 4302                                     | 3305                                 | 3250                            | 2226                                            | 1024                                        | 990                            | 689                                            | 301                                        | 2571                                 | 1099                                                 | 1472                                             | 6054\n",
       "CT         |                |              | 3976                 | 3395                         | 581                      | 2280                     | 1699                                     | 581                                  | 1696                            | 1696                                            | 0                                           | 553                            | 553                                            | 0                                          | 298                                  | 195                                                  | 103                                              | 4036\n",
       "DC         |                |              | 6904                 | 6304                         | 600                      | 3770                     | 3170                                     | 600                                  | 3134                            | 3134                                            | 0                                           | 924                            | 924                                            | 0                                          | 1586                                 | 1286                                                 | 300                                              | 2018\n",
       "DE         |                |              | 1082                 | 989                          | 93                       | 708                      | 615                                      | 93                                   | 374                             | 374                                             | 0                                           | 125                            | 125                                            | 0                                          | 162                                  | 143                                                  | 19                                               | 2018\n",
       "FL         |                |              | 31030                | 17637                        | 13393                    | 21443                    | 10686                                    | 10757                                | 9587                            | 6951                                            | 2636                                        | 2757                           | 2070                                           | 687                                        | 4543                                 | 1237                                                 | 3306                                             | 54486\n",
       "... (45 rows omitted)"
      ]
     },
     "execution_count": 25,
     "metadata": {},
     "output_type": "execute_result"
    }
   ],
   "source": [
    "def get_state_code(coc_number):\n",
    "    return coc_number.split(\"-\")[0]\n",
    "    \n",
    "states = pit_table.apply(get_state_code, \"CoC Number\")\n",
    "new_pit_table = pit_table.with_column(\"State Code\", states)\n",
    "new_pit_table\n",
    "\n",
    "pit_summ_by_state_2018 = new_pit_table.where(\"Year\", 2018).group(\"State Code\", sum)\n",
    "pit_summ_by_state_2018"
   ]
  },
  {
   "cell_type": "code",
   "execution_count": 8,
   "metadata": {},
   "outputs": [
    {
     "data": {
      "text/html": [
       "<table border=\"1\" class=\"dataframe\">\n",
       "    <thead>\n",
       "        <tr>\n",
       "            <th>State</th> <th>State Code</th> <th>Region</th> <th>Division</th>\n",
       "        </tr>\n",
       "    </thead>\n",
       "    <tbody>\n",
       "        <tr>\n",
       "            <td>Alaska              </td> <td>AK        </td> <td>West     </td> <td>Pacific           </td>\n",
       "        </tr>\n",
       "        <tr>\n",
       "            <td>Alabama             </td> <td>AL        </td> <td>South    </td> <td>East South Central</td>\n",
       "        </tr>\n",
       "        <tr>\n",
       "            <td>Arkansas            </td> <td>AR        </td> <td>South    </td> <td>West South Central</td>\n",
       "        </tr>\n",
       "        <tr>\n",
       "            <td>Arizona             </td> <td>AZ        </td> <td>West     </td> <td>Mountain          </td>\n",
       "        </tr>\n",
       "        <tr>\n",
       "            <td>California          </td> <td>CA        </td> <td>West     </td> <td>Pacific           </td>\n",
       "        </tr>\n",
       "        <tr>\n",
       "            <td>Colorado            </td> <td>CO        </td> <td>West     </td> <td>Mountain          </td>\n",
       "        </tr>\n",
       "        <tr>\n",
       "            <td>Connecticut         </td> <td>CT        </td> <td>Northeast</td> <td>New England       </td>\n",
       "        </tr>\n",
       "        <tr>\n",
       "            <td>District of Columbia</td> <td>DC        </td> <td>South    </td> <td>South Atlantic    </td>\n",
       "        </tr>\n",
       "        <tr>\n",
       "            <td>Delaware            </td> <td>DE        </td> <td>South    </td> <td>South Atlantic    </td>\n",
       "        </tr>\n",
       "        <tr>\n",
       "            <td>Florida             </td> <td>FL        </td> <td>South    </td> <td>South Atlantic    </td>\n",
       "        </tr>\n",
       "    </tbody>\n",
       "</table>\n",
       "<p>... (41 rows omitted)</p>"
      ],
      "text/plain": [
       "State                | State Code | Region    | Division\n",
       "Alaska               | AK         | West      | Pacific\n",
       "Alabama              | AL         | South     | East South Central\n",
       "Arkansas             | AR         | South     | West South Central\n",
       "Arizona              | AZ         | West      | Mountain\n",
       "California           | CA         | West      | Pacific\n",
       "Colorado             | CO         | West      | Mountain\n",
       "Connecticut          | CT         | Northeast | New England\n",
       "District of Columbia | DC         | South     | South Atlantic\n",
       "Delaware             | DE         | South     | South Atlantic\n",
       "Florida              | FL         | South     | South Atlantic\n",
       "... (41 rows omitted)"
      ]
     },
     "execution_count": 8,
     "metadata": {},
     "output_type": "execute_result"
    }
   ],
   "source": [
    "regions = Table.read_table(\"https://raw.githubusercontent.com/cphalpert/census-regions/master/us%20census%20bureau%20regions%20and%20divisions.csv\")\n",
    "regions"
   ]
  },
  {
   "cell_type": "code",
   "execution_count": 32,
   "metadata": {},
   "outputs": [
    {
     "data": {
      "image/png": "[encoded data removed]",
      "text/plain": [
       "<Figure size 432x288 with 1 Axes>"
      ]
     },
     "metadata": {},
     "output_type": "display_data"
    },
    {
     "data": {
      "image/png": "[encoded data removed]",
      "text/plain": [
       "<Figure size 432x324 with 1 Axes>"
      ]
     },
     "metadata": {},
     "output_type": "display_data"
    }
   ],
   "source": [
    "region_homeless =  new_pit_table.where(\"Year\", 2018).join(\"State Code\", regions)\n",
    "\n",
    "region_sum = region_homeless.group(\"Region\", sum)\n",
    "division_sum = region_homeless.group(\"Division\", sum)\n",
    "\n",
    "\n",
    "\n",
    "region_sum.barh(\"Region\", \"Overall Homeless sum\")\n",
    "division_sum.sort(\"Overall Homeless sum\").barh(\"Division\", \"Overall Homeless sum\")"
   ]
  },
  {
   "cell_type": "code",
   "execution_count": 36,
   "metadata": {},
   "outputs": [
    {
     "data": {
      "application/vnd.plotly.v1+json": {
       "config": {
        "plotlyServerURL": "https://plot.ly"
       },
       "data": [
        {
         "labels": [
          "East North Central",
          "East South Central",
          "Middle Atlantic",
          "Mountain",
          "New England",
          "Pacific",
          "South Atlantic",
          "West North Central",
          "West South Central"
         ],
         "type": "pie",
         "values": [
          39408,
          16357,
          114807,
          37749,
          30402,
          175298,
          76078,
          22213,
          34952
         ]
        }
       ],
       "layout": {
        "template": {
         "data": {
          "bar": [
           {
            "error_x": {
             "color": "#2a3f5f"
            },
            "error_y": {
             "color": "#2a3f5f"
            },
            "marker": {
             "line": {
              "color": "#E5ECF6",
              "width": 0.5
             }
            },
            "type": "bar"
           }
          ],
          "barpolar": [
           {
            "marker": {
             "line": {
              "color": "#E5ECF6",
              "width": 0.5
             }
            },
            "type": "barpolar"
           }
          ],
          "carpet": [
           {
            "aaxis": {
             "endlinecolor": "#2a3f5f",
             "gridcolor": "white",
             "linecolor": "white",
             "minorgridcolor": "white",
             "startlinecolor": "#2a3f5f"
            },
            "baxis": {
             "endlinecolor": "#2a3f5f",
             "gridcolor": "white",
             "linecolor": "white",
             "minorgridcolor": "white",
             "startlinecolor": "#2a3f5f"
            },
            "type": "carpet"
           }
          ],
          "choropleth": [
           {
            "colorbar": {
             "outlinewidth": 0,
             "ticks": ""
            },
            "type": "choropleth"
           }
          ],
          "contour": [
           {
            "colorbar": {
             "outlinewidth": 0,
             "ticks": ""
            },
            "colorscale": [
             [
              0,
              "#0d0887"
             ],
             [
              0.1111111111111111,
              "#46039f"
             ],
             [
              0.2222222222222222,
              "#7201a8"
             ],
             [
              0.3333333333333333,
              "#9c179e"
             ],
             [
              0.4444444444444444,
              "#bd3786"
             ],
             [
              0.5555555555555556,
              "#d8576b"
             ],
             [
              0.6666666666666666,
              "#ed7953"
             ],
             [
              0.7777777777777778,
              "#fb9f3a"
             ],
             [
              0.8888888888888888,
              "#fdca26"
             ],
             [
              1,
              "#f0f921"
             ]
            ],
            "type": "contour"
           }
          ],
          "contourcarpet": [
           {
            "colorbar": {
             "outlinewidth": 0,
             "ticks": ""
            },
            "type": "contourcarpet"
           }
          ],
          "heatmap": [
           {
            "colorbar": {
             "outlinewidth": 0,
             "ticks": ""
            },
            "colorscale": [
             [
              0,
              "#0d0887"
             ],
             [
              0.1111111111111111,
              "#46039f"
             ],
             [
              0.2222222222222222,
              "#7201a8"
             ],
             [
              0.3333333333333333,
              "#9c179e"
             ],
             [
              0.4444444444444444,
              "#bd3786"
             ],
             [
              0.5555555555555556,
              "#d8576b"
             ],
             [
              0.6666666666666666,
              "#ed7953"
             ],
             [
              0.7777777777777778,
              "#fb9f3a"
             ],
             [
              0.8888888888888888,
              "#fdca26"
             ],
             [
              1,
              "#f0f921"
             ]
            ],
            "type": "heatmap"
           }
          ],
          "heatmapgl": [
           {
            "colorbar": {
             "outlinewidth": 0,
             "ticks": ""
            },
            "colorscale": [
             [
              0,
              "#0d0887"
             ],
             [
              0.1111111111111111,
              "#46039f"
             ],
             [
              0.2222222222222222,
              "#7201a8"
             ],
             [
              0.3333333333333333,
              "#9c179e"
             ],
             [
              0.4444444444444444,
              "#bd3786"
             ],
             [
              0.5555555555555556,
              "#d8576b"
             ],
             [
              0.6666666666666666,
              "#ed7953"
             ],
             [
              0.7777777777777778,
              "#fb9f3a"
             ],
             [
              0.8888888888888888,
              "#fdca26"
             ],
             [
              1,
              "#f0f921"
             ]
            ],
            "type": "heatmapgl"
           }
          ],
          "histogram": [
           {
            "marker": {
             "colorbar": {
              "outlinewidth": 0,
              "ticks": ""
             }
            },
            "type": "histogram"
           }
          ],
          "histogram2d": [
           {
            "colorbar": {
             "outlinewidth": 0,
             "ticks": ""
            },
            "colorscale": [
             [
              0,
              "#0d0887"
             ],
             [
              0.1111111111111111,
              "#46039f"
             ],
             [
              0.2222222222222222,
              "#7201a8"
             ],
             [
              0.3333333333333333,
              "#9c179e"
             ],
             [
              0.4444444444444444,
              "#bd3786"
             ],
             [
              0.5555555555555556,
              "#d8576b"
             ],
             [
              0.6666666666666666,
              "#ed7953"
             ],
             [
              0.7777777777777778,
              "#fb9f3a"
             ],
             [
              0.8888888888888888,
              "#fdca26"
             ],
             [
              1,
              "#f0f921"
             ]
            ],
            "type": "histogram2d"
           }
          ],
          "histogram2dcontour": [
           {
            "colorbar": {
             "outlinewidth": 0,
             "ticks": ""
            },
            "colorscale": [
             [
              0,
              "#0d0887"
             ],
             [
              0.1111111111111111,
              "#46039f"
             ],
             [
              0.2222222222222222,
              "#7201a8"
             ],
             [
              0.3333333333333333,
              "#9c179e"
             ],
             [
              0.4444444444444444,
              "#bd3786"
             ],
             [
              0.5555555555555556,
              "#d8576b"
             ],
             [
              0.6666666666666666,
              "#ed7953"
             ],
             [
              0.7777777777777778,
              "#fb9f3a"
             ],
             [
              0.8888888888888888,
              "#fdca26"
             ],
             [
              1,
              "#f0f921"
             ]
            ],
            "type": "histogram2dcontour"
           }
          ],
          "mesh3d": [
           {
            "colorbar": {
             "outlinewidth": 0,
             "ticks": ""
            },
            "type": "mesh3d"
           }
          ],
          "parcoords": [
           {
            "line": {
             "colorbar": {
              "outlinewidth": 0,
              "ticks": ""
             }
            },
            "type": "parcoords"
           }
          ],
          "scatter": [
           {
            "marker": {
             "colorbar": {
              "outlinewidth": 0,
              "ticks": ""
             }
            },
            "type": "scatter"
           }
          ],
          "scatter3d": [
           {
            "line": {
             "colorbar": {
              "outlinewidth": 0,
              "ticks": ""
             }
            },
            "marker": {
             "colorbar": {
              "outlinewidth": 0,
              "ticks": ""
             }
            },
            "type": "scatter3d"
           }
          ],
          "scattercarpet": [
           {
            "marker": {
             "colorbar": {
              "outlinewidth": 0,
              "ticks": ""
             }
            },
            "type": "scattercarpet"
           }
          ],
          "scattergeo": [
           {
            "marker": {
             "colorbar": {
              "outlinewidth": 0,
              "ticks": ""
             }
            },
            "type": "scattergeo"
           }
          ],
          "scattergl": [
           {
            "marker": {
             "colorbar": {
              "outlinewidth": 0,
              "ticks": ""
             }
            },
            "type": "scattergl"
           }
          ],
          "scattermapbox": [
           {
            "marker": {
             "colorbar": {
              "outlinewidth": 0,
              "ticks": ""
             }
            },
            "type": "scattermapbox"
           }
          ],
          "scatterpolar": [
           {
            "marker": {
             "colorbar": {
              "outlinewidth": 0,
              "ticks": ""
             }
            },
            "type": "scatterpolar"
           }
          ],
          "scatterpolargl": [
           {
            "marker": {
             "colorbar": {
              "outlinewidth": 0,
              "ticks": ""
             }
            },
            "type": "scatterpolargl"
           }
          ],
          "scatterternary": [
           {
            "marker": {
             "colorbar": {
              "outlinewidth": 0,
              "ticks": ""
             }
            },
            "type": "scatterternary"
           }
          ],
          "surface": [
           {
            "colorbar": {
             "outlinewidth": 0,
             "ticks": ""
            },
            "colorscale": [
             [
              0,
              "#0d0887"
             ],
             [
              0.1111111111111111,
              "#46039f"
             ],
             [
              0.2222222222222222,
              "#7201a8"
             ],
             [
              0.3333333333333333,
              "#9c179e"
             ],
             [
              0.4444444444444444,
              "#bd3786"
             ],
             [
              0.5555555555555556,
              "#d8576b"
             ],
             [
              0.6666666666666666,
              "#ed7953"
             ],
             [
              0.7777777777777778,
              "#fb9f3a"
             ],
             [
              0.8888888888888888,
              "#fdca26"
             ],
             [
              1,
              "#f0f921"
             ]
            ],
            "type": "surface"
           }
          ],
          "table": [
           {
            "cells": {
             "fill": {
              "color": "#EBF0F8"
             },
             "line": {
              "color": "white"
             }
            },
            "header": {
             "fill": {
              "color": "#C8D4E3"
             },
             "line": {
              "color": "white"
             }
            },
            "type": "table"
           }
          ]
         },
         "layout": {
          "annotationdefaults": {
           "arrowcolor": "#2a3f5f",
           "arrowhead": 0,
           "arrowwidth": 1
          },
          "colorscale": {
           "diverging": [
            [
             0,
             "#8e0152"
            ],
            [
             0.1,
             "#c51b7d"
            ],
            [
             0.2,
             "#de77ae"
            ],
            [
             0.3,
             "#f1b6da"
            ],
            [
             0.4,
             "#fde0ef"
            ],
            [
             0.5,
             "#f7f7f7"
            ],
            [
             0.6,
             "#e6f5d0"
            ],
            [
             0.7,
             "#b8e186"
            ],
            [
             0.8,
             "#7fbc41"
            ],
            [
             0.9,
             "#4d9221"
            ],
            [
             1,
             "#276419"
            ]
           ],
           "sequential": [
            [
             0,
             "#0d0887"
            ],
            [
             0.1111111111111111,
             "#46039f"
            ],
            [
             0.2222222222222222,
             "#7201a8"
            ],
            [
             0.3333333333333333,
             "#9c179e"
            ],
            [
             0.4444444444444444,
             "#bd3786"
            ],
            [
             0.5555555555555556,
             "#d8576b"
            ],
            [
             0.6666666666666666,
             "#ed7953"
            ],
            [
             0.7777777777777778,
             "#fb9f3a"
            ],
            [
             0.8888888888888888,
             "#fdca26"
            ],
            [
             1,
             "#f0f921"
            ]
           ],
           "sequentialminus": [
            [
             0,
             "#0d0887"
            ],
            [
             0.1111111111111111,
             "#46039f"
            ],
            [
             0.2222222222222222,
             "#7201a8"
            ],
            [
             0.3333333333333333,
             "#9c179e"
            ],
            [
             0.4444444444444444,
             "#bd3786"
            ],
            [
             0.5555555555555556,
             "#d8576b"
            ],
            [
             0.6666666666666666,
             "#ed7953"
            ],
            [
             0.7777777777777778,
             "#fb9f3a"
            ],
            [
             0.8888888888888888,
             "#fdca26"
            ],
            [
             1,
             "#f0f921"
            ]
           ]
          },
          "colorway": [
           "#636efa",
           "#EF553B",
           "#00cc96",
           "#ab63fa",
           "#FFA15A",
           "#19d3f3",
           "#FF6692",
           "#B6E880",
           "#FF97FF",
           "#FECB52"
          ],
          "font": {
           "color": "#2a3f5f"
          },
          "geo": {
           "bgcolor": "white",
           "lakecolor": "white",
           "landcolor": "#E5ECF6",
           "showlakes": true,
           "showland": true,
           "subunitcolor": "white"
          },
          "hoverlabel": {
           "align": "left"
          },
          "hovermode": "closest",
          "mapbox": {
           "style": "light"
          },
          "paper_bgcolor": "white",
          "plot_bgcolor": "#E5ECF6",
          "polar": {
           "angularaxis": {
            "gridcolor": "white",
            "linecolor": "white",
            "ticks": ""
           },
           "bgcolor": "#E5ECF6",
           "radialaxis": {
            "gridcolor": "white",
            "linecolor": "white",
            "ticks": ""
           }
          },
          "scene": {
           "xaxis": {
            "backgroundcolor": "#E5ECF6",
            "gridcolor": "white",
            "gridwidth": 2,
            "linecolor": "white",
            "showbackground": true,
            "ticks": "",
            "zerolinecolor": "white"
           },
           "yaxis": {
            "backgroundcolor": "#E5ECF6",
            "gridcolor": "white",
            "gridwidth": 2,
            "linecolor": "white",
            "showbackground": true,
            "ticks": "",
            "zerolinecolor": "white"
           },
           "zaxis": {
            "backgroundcolor": "#E5ECF6",
            "gridcolor": "white",
            "gridwidth": 2,
            "linecolor": "white",
            "showbackground": true,
            "ticks": "",
            "zerolinecolor": "white"
           }
          },
          "shapedefaults": {
           "line": {
            "color": "#2a3f5f"
           }
          },
          "ternary": {
           "aaxis": {
            "gridcolor": "white",
            "linecolor": "white",
            "ticks": ""
           },
           "baxis": {
            "gridcolor": "white",
            "linecolor": "white",
            "ticks": ""
           },
           "bgcolor": "#E5ECF6",
           "caxis": {
            "gridcolor": "white",
            "linecolor": "white",
            "ticks": ""
           }
          },
          "title": {
           "x": 0.05
          },
          "xaxis": {
           "automargin": true,
           "gridcolor": "white",
           "linecolor": "white",
           "ticks": "",
           "zerolinecolor": "white",
           "zerolinewidth": 2
          },
          "yaxis": {
           "automargin": true,
           "gridcolor": "white",
           "linecolor": "white",
           "ticks": "",
           "zerolinecolor": "white",
           "zerolinewidth": 2
          }
         }
        }
       }
      },
      "text/html": [
       "<div>\n",
       "        \n",
       "        \n",
       "            <div id=\"c002def1-0fef-4332-9e94-b30fb063efa9\" class=\"plotly-graph-div\" style=\"height:525px; width:100%;\"></div>\n",
       "            <script type=\"text/javascript\">\n",
       "                require([\"plotly\"], function(Plotly) {\n",
       "                    window.PLOTLYENV=window.PLOTLYENV || {};\n",
       "                    \n",
       "                if (document.getElementById(\"c002def1-0fef-4332-9e94-b30fb063efa9\")) {\n",
       "                    Plotly.newPlot(\n",
       "                        'c002def1-0fef-4332-9e94-b30fb063efa9',\n",
       "                        [{\"labels\": [\"East North Central\", \"East South Central\", \"Middle Atlantic\", \"Mountain\", \"New England\", \"Pacific\", \"South Atlantic\", \"West North Central\", \"West South Central\"], \"type\": \"pie\", \"values\": [39408, 16357, 114807, 37749, 30402, 175298, 76078, 22213, 34952]}],\n",
       "                        {\"template\": {\"data\": {\"bar\": [{\"error_x\": {\"color\": \"#2a3f5f\"}, \"error_y\": {\"color\": \"#2a3f5f\"}, \"marker\": {\"line\": {\"color\": \"#E5ECF6\", \"width\": 0.5}}, \"type\": \"bar\"}], \"barpolar\": [{\"marker\": {\"line\": {\"color\": \"#E5ECF6\", \"width\": 0.5}}, \"type\": \"barpolar\"}], \"carpet\": [{\"aaxis\": {\"endlinecolor\": \"#2a3f5f\", \"gridcolor\": \"white\", \"linecolor\": \"white\", \"minorgridcolor\": \"white\", \"startlinecolor\": \"#2a3f5f\"}, \"baxis\": {\"endlinecolor\": \"#2a3f5f\", \"gridcolor\": \"white\", \"linecolor\": \"white\", \"minorgridcolor\": \"white\", \"startlinecolor\": \"#2a3f5f\"}, \"type\": \"carpet\"}], \"choropleth\": [{\"colorbar\": {\"outlinewidth\": 0, \"ticks\": \"\"}, \"type\": \"choropleth\"}], \"contour\": [{\"colorbar\": {\"outlinewidth\": 0, \"ticks\": \"\"}, \"colorscale\": [[0.0, \"#0d0887\"], [0.1111111111111111, \"#46039f\"], [0.2222222222222222, \"#7201a8\"], [0.3333333333333333, \"#9c179e\"], [0.4444444444444444, \"#bd3786\"], [0.5555555555555556, \"#d8576b\"], [0.6666666666666666, \"#ed7953\"], [0.7777777777777778, \"#fb9f3a\"], [0.8888888888888888, \"#fdca26\"], [1.0, \"#f0f921\"]], \"type\": \"contour\"}], \"contourcarpet\": [{\"colorbar\": {\"outlinewidth\": 0, \"ticks\": \"\"}, \"type\": \"contourcarpet\"}], \"heatmap\": [{\"colorbar\": {\"outlinewidth\": 0, \"ticks\": \"\"}, \"colorscale\": [[0.0, \"#0d0887\"], [0.1111111111111111, \"#46039f\"], [0.2222222222222222, \"#7201a8\"], [0.3333333333333333, \"#9c179e\"], [0.4444444444444444, \"#bd3786\"], [0.5555555555555556, \"#d8576b\"], [0.6666666666666666, \"#ed7953\"], [0.7777777777777778, \"#fb9f3a\"], [0.8888888888888888, \"#fdca26\"], [1.0, \"#f0f921\"]], \"type\": \"heatmap\"}], \"heatmapgl\": [{\"colorbar\": {\"outlinewidth\": 0, \"ticks\": \"\"}, \"colorscale\": [[0.0, \"#0d0887\"], [0.1111111111111111, \"#46039f\"], [0.2222222222222222, \"#7201a8\"], [0.3333333333333333, \"#9c179e\"], [0.4444444444444444, \"#bd3786\"], [0.5555555555555556, \"#d8576b\"], [0.6666666666666666, \"#ed7953\"], [0.7777777777777778, \"#fb9f3a\"], [0.8888888888888888, \"#fdca26\"], [1.0, \"#f0f921\"]], \"type\": \"heatmapgl\"}], \"histogram\": [{\"marker\": {\"colorbar\": {\"outlinewidth\": 0, \"ticks\": \"\"}}, \"type\": \"histogram\"}], \"histogram2d\": [{\"colorbar\": {\"outlinewidth\": 0, \"ticks\": \"\"}, \"colorscale\": [[0.0, \"#0d0887\"], [0.1111111111111111, \"#46039f\"], [0.2222222222222222, \"#7201a8\"], [0.3333333333333333, \"#9c179e\"], [0.4444444444444444, \"#bd3786\"], [0.5555555555555556, \"#d8576b\"], [0.6666666666666666, \"#ed7953\"], [0.7777777777777778, \"#fb9f3a\"], [0.8888888888888888, \"#fdca26\"], [1.0, \"#f0f921\"]], \"type\": \"histogram2d\"}], \"histogram2dcontour\": [{\"colorbar\": {\"outlinewidth\": 0, \"ticks\": \"\"}, \"colorscale\": [[0.0, \"#0d0887\"], [0.1111111111111111, \"#46039f\"], [0.2222222222222222, \"#7201a8\"], [0.3333333333333333, \"#9c179e\"], [0.4444444444444444, \"#bd3786\"], [0.5555555555555556, \"#d8576b\"], [0.6666666666666666, \"#ed7953\"], [0.7777777777777778, \"#fb9f3a\"], [0.8888888888888888, \"#fdca26\"], [1.0, \"#f0f921\"]], \"type\": \"histogram2dcontour\"}], \"mesh3d\": [{\"colorbar\": {\"outlinewidth\": 0, \"ticks\": \"\"}, \"type\": \"mesh3d\"}], \"parcoords\": [{\"line\": {\"colorbar\": {\"outlinewidth\": 0, \"ticks\": \"\"}}, \"type\": \"parcoords\"}], \"scatter\": [{\"marker\": {\"colorbar\": {\"outlinewidth\": 0, \"ticks\": \"\"}}, \"type\": \"scatter\"}], \"scatter3d\": [{\"line\": {\"colorbar\": {\"outlinewidth\": 0, \"ticks\": \"\"}}, \"marker\": {\"colorbar\": {\"outlinewidth\": 0, \"ticks\": \"\"}}, \"type\": \"scatter3d\"}], \"scattercarpet\": [{\"marker\": {\"colorbar\": {\"outlinewidth\": 0, \"ticks\": \"\"}}, \"type\": \"scattercarpet\"}], \"scattergeo\": [{\"marker\": {\"colorbar\": {\"outlinewidth\": 0, \"ticks\": \"\"}}, \"type\": \"scattergeo\"}], \"scattergl\": [{\"marker\": {\"colorbar\": {\"outlinewidth\": 0, \"ticks\": \"\"}}, \"type\": \"scattergl\"}], \"scattermapbox\": [{\"marker\": {\"colorbar\": {\"outlinewidth\": 0, \"ticks\": \"\"}}, \"type\": \"scattermapbox\"}], \"scatterpolar\": [{\"marker\": {\"colorbar\": {\"outlinewidth\": 0, \"ticks\": \"\"}}, \"type\": \"scatterpolar\"}], \"scatterpolargl\": [{\"marker\": {\"colorbar\": {\"outlinewidth\": 0, \"ticks\": \"\"}}, \"type\": \"scatterpolargl\"}], \"scatterternary\": [{\"marker\": {\"colorbar\": {\"outlinewidth\": 0, \"ticks\": \"\"}}, \"type\": \"scatterternary\"}], \"surface\": [{\"colorbar\": {\"outlinewidth\": 0, \"ticks\": \"\"}, \"colorscale\": [[0.0, \"#0d0887\"], [0.1111111111111111, \"#46039f\"], [0.2222222222222222, \"#7201a8\"], [0.3333333333333333, \"#9c179e\"], [0.4444444444444444, \"#bd3786\"], [0.5555555555555556, \"#d8576b\"], [0.6666666666666666, \"#ed7953\"], [0.7777777777777778, \"#fb9f3a\"], [0.8888888888888888, \"#fdca26\"], [1.0, \"#f0f921\"]], \"type\": \"surface\"}], \"table\": [{\"cells\": {\"fill\": {\"color\": \"#EBF0F8\"}, \"line\": {\"color\": \"white\"}}, \"header\": {\"fill\": {\"color\": \"#C8D4E3\"}, \"line\": {\"color\": \"white\"}}, \"type\": \"table\"}]}, \"layout\": {\"annotationdefaults\": {\"arrowcolor\": \"#2a3f5f\", \"arrowhead\": 0, \"arrowwidth\": 1}, \"colorscale\": {\"diverging\": [[0, \"#8e0152\"], [0.1, \"#c51b7d\"], [0.2, \"#de77ae\"], [0.3, \"#f1b6da\"], [0.4, \"#fde0ef\"], [0.5, \"#f7f7f7\"], [0.6, \"#e6f5d0\"], [0.7, \"#b8e186\"], [0.8, \"#7fbc41\"], [0.9, \"#4d9221\"], [1, \"#276419\"]], \"sequential\": [[0.0, \"#0d0887\"], [0.1111111111111111, \"#46039f\"], [0.2222222222222222, \"#7201a8\"], [0.3333333333333333, \"#9c179e\"], [0.4444444444444444, \"#bd3786\"], [0.5555555555555556, \"#d8576b\"], [0.6666666666666666, \"#ed7953\"], [0.7777777777777778, \"#fb9f3a\"], [0.8888888888888888, \"#fdca26\"], [1.0, \"#f0f921\"]], \"sequentialminus\": [[0.0, \"#0d0887\"], [0.1111111111111111, \"#46039f\"], [0.2222222222222222, \"#7201a8\"], [0.3333333333333333, \"#9c179e\"], [0.4444444444444444, \"#bd3786\"], [0.5555555555555556, \"#d8576b\"], [0.6666666666666666, \"#ed7953\"], [0.7777777777777778, \"#fb9f3a\"], [0.8888888888888888, \"#fdca26\"], [1.0, \"#f0f921\"]]}, \"colorway\": [\"#636efa\", \"#EF553B\", \"#00cc96\", \"#ab63fa\", \"#FFA15A\", \"#19d3f3\", \"#FF6692\", \"#B6E880\", \"#FF97FF\", \"#FECB52\"], \"font\": {\"color\": \"#2a3f5f\"}, \"geo\": {\"bgcolor\": \"white\", \"lakecolor\": \"white\", \"landcolor\": \"#E5ECF6\", \"showlakes\": true, \"showland\": true, \"subunitcolor\": \"white\"}, \"hoverlabel\": {\"align\": \"left\"}, \"hovermode\": \"closest\", \"mapbox\": {\"style\": \"light\"}, \"paper_bgcolor\": \"white\", \"plot_bgcolor\": \"#E5ECF6\", \"polar\": {\"angularaxis\": {\"gridcolor\": \"white\", \"linecolor\": \"white\", \"ticks\": \"\"}, \"bgcolor\": \"#E5ECF6\", \"radialaxis\": {\"gridcolor\": \"white\", \"linecolor\": \"white\", \"ticks\": \"\"}}, \"scene\": {\"xaxis\": {\"backgroundcolor\": \"#E5ECF6\", \"gridcolor\": \"white\", \"gridwidth\": 2, \"linecolor\": \"white\", \"showbackground\": true, \"ticks\": \"\", \"zerolinecolor\": \"white\"}, \"yaxis\": {\"backgroundcolor\": \"#E5ECF6\", \"gridcolor\": \"white\", \"gridwidth\": 2, \"linecolor\": \"white\", \"showbackground\": true, \"ticks\": \"\", \"zerolinecolor\": \"white\"}, \"zaxis\": {\"backgroundcolor\": \"#E5ECF6\", \"gridcolor\": \"white\", \"gridwidth\": 2, \"linecolor\": \"white\", \"showbackground\": true, \"ticks\": \"\", \"zerolinecolor\": \"white\"}}, \"shapedefaults\": {\"line\": {\"color\": \"#2a3f5f\"}}, \"ternary\": {\"aaxis\": {\"gridcolor\": \"white\", \"linecolor\": \"white\", \"ticks\": \"\"}, \"baxis\": {\"gridcolor\": \"white\", \"linecolor\": \"white\", \"ticks\": \"\"}, \"bgcolor\": \"#E5ECF6\", \"caxis\": {\"gridcolor\": \"white\", \"linecolor\": \"white\", \"ticks\": \"\"}}, \"title\": {\"x\": 0.05}, \"xaxis\": {\"automargin\": true, \"gridcolor\": \"white\", \"linecolor\": \"white\", \"ticks\": \"\", \"zerolinecolor\": \"white\", \"zerolinewidth\": 2}, \"yaxis\": {\"automargin\": true, \"gridcolor\": \"white\", \"linecolor\": \"white\", \"ticks\": \"\", \"zerolinecolor\": \"white\", \"zerolinewidth\": 2}}}},\n",
       "                        {\"responsive\": true}\n",
       "                    ).then(function(){\n",
       "                            \n",
       "var gd = document.getElementById('c002def1-0fef-4332-9e94-b30fb063efa9');\n",
       "var x = new MutationObserver(function (mutations, observer) {{\n",
       "        var display = window.getComputedStyle(gd).display;\n",
       "        if (!display || display === 'none') {{\n",
       "            console.log([gd, 'removed!']);\n",
       "            Plotly.purge(gd);\n",
       "            observer.disconnect();\n",
       "        }}\n",
       "}});\n",
       "\n",
       "// Listen for the removal of the full notebook cells\n",
       "var notebookContainer = gd.closest('#notebook-container');\n",
       "if (notebookContainer) {{\n",
       "    x.observe(notebookContainer, {childList: true});\n",
       "}}\n",
       "\n",
       "// Listen for the clearing of the current output cell\n",
       "var outputEl = gd.closest('.output');\n",
       "if (outputEl) {{\n",
       "    x.observe(outputEl, {childList: true});\n",
       "}}\n",
       "\n",
       "                        })\n",
       "                };\n",
       "                });\n",
       "            </script>\n",
       "        </div>"
      ]
     },
     "metadata": {},
     "output_type": "display_data"
    }
   ],
   "source": [
    "fig = go.Figure(data=[go.Pie(labels=division_sum[\"Division\"], values=division_sum[\"Overall Homeless sum\"])])\n",
    "fig.show()"
   ]
  },
  {
   "cell_type": "code",
   "execution_count": 30,
   "metadata": {},
   "outputs": [
    {
     "data": {
      "application/vnd.plotly.v1+json": {
       "config": {
        "plotlyServerURL": "https://plot.ly"
       },
       "data": [
        {
         "colorbar": {
          "title": {
           "text": "Count of Homeless"
          }
         },
         "colorscale": [
          [
           0,
           "rgb(247,251,255)"
          ],
          [
           0.125,
           "rgb(222,235,247)"
          ],
          [
           0.25,
           "rgb(198,219,239)"
          ],
          [
           0.375,
           "rgb(158,202,225)"
          ],
          [
           0.5,
           "rgb(107,174,214)"
          ],
          [
           0.625,
           "rgb(66,146,198)"
          ],
          [
           0.75,
           "rgb(33,113,181)"
          ],
          [
           0.875,
           "rgb(8,81,156)"
          ],
          [
           1,
           "rgb(8,48,107)"
          ]
         ],
         "locationmode": "USA-states",
         "locations": [
          "AK",
          "AL",
          "AR",
          "AZ",
          "CA",
          "CO",
          "CT",
          "DC",
          "DE",
          "FL",
          "GA",
          "GU",
          "HI",
          "IA",
          "ID",
          "IL",
          "IN",
          "KS",
          "KY",
          "LA",
          "MA",
          "MD",
          "ME",
          "MI",
          "MN",
          "MO",
          "MP",
          "MS",
          "MT",
          "NC",
          "ND",
          "NE",
          "NH",
          "NJ",
          "NM",
          "NV",
          "NY",
          "OH",
          "OK",
          "OR",
          "PA",
          "PR",
          "RI",
          "SC",
          "SD",
          "TN",
          "TX",
          "UT",
          "VA",
          "VI",
          "VT",
          "WA",
          "WI",
          "WV",
          "WY"
         ],
         "type": "choropleth",
         "z": [
          2016,
          3434,
          2712,
          9865,
          129972,
          10857,
          3976,
          6904,
          1082,
          31030,
          9499,
          854,
          6530,
          2749,
          2012,
          10643,
          5258,
          2067,
          3688,
          3059,
          20068,
          7144,
          2516,
          8351,
          7243,
          6032,
          1044,
          1352,
          1405,
          9268,
          542,
          2421,
          1450,
          9398,
          2551,
          7544,
          91897,
          10249,
          3871,
          14476,
          13512,
          3182,
          1101,
          3933,
          1159,
          7883,
          25310,
          2876,
          5975,
          486,
          1291,
          22304,
          4907,
          1243,
          639
         ]
        }
       ],
       "layout": {
        "geo": {
         "scope": "usa"
        },
        "template": {
         "data": {
          "bar": [
           {
            "error_x": {
             "color": "#2a3f5f"
            },
            "error_y": {
             "color": "#2a3f5f"
            },
            "marker": {
             "line": {
              "color": "#E5ECF6",
              "width": 0.5
             }
            },
            "type": "bar"
           }
          ],
          "barpolar": [
           {
            "marker": {
             "line": {
              "color": "#E5ECF6",
              "width": 0.5
             }
            },
            "type": "barpolar"
           }
          ],
          "carpet": [
           {
            "aaxis": {
             "endlinecolor": "#2a3f5f",
             "gridcolor": "white",
             "linecolor": "white",
             "minorgridcolor": "white",
             "startlinecolor": "#2a3f5f"
            },
            "baxis": {
             "endlinecolor": "#2a3f5f",
             "gridcolor": "white",
             "linecolor": "white",
             "minorgridcolor": "white",
             "startlinecolor": "#2a3f5f"
            },
            "type": "carpet"
           }
          ],
          "choropleth": [
           {
            "colorbar": {
             "outlinewidth": 0,
             "ticks": ""
            },
            "type": "choropleth"
           }
          ],
          "contour": [
           {
            "colorbar": {
             "outlinewidth": 0,
             "ticks": ""
            },
            "colorscale": [
             [
              0,
              "#0d0887"
             ],
             [
              0.1111111111111111,
              "#46039f"
             ],
             [
              0.2222222222222222,
              "#7201a8"
             ],
             [
              0.3333333333333333,
              "#9c179e"
             ],
             [
              0.4444444444444444,
              "#bd3786"
             ],
             [
              0.5555555555555556,
              "#d8576b"
             ],
             [
              0.6666666666666666,
              "#ed7953"
             ],
             [
              0.7777777777777778,
              "#fb9f3a"
             ],
             [
              0.8888888888888888,
              "#fdca26"
             ],
             [
              1,
              "#f0f921"
             ]
            ],
            "type": "contour"
           }
          ],
          "contourcarpet": [
           {
            "colorbar": {
             "outlinewidth": 0,
             "ticks": ""
            },
            "type": "contourcarpet"
           }
          ],
          "heatmap": [
           {
            "colorbar": {
             "outlinewidth": 0,
             "ticks": ""
            },
            "colorscale": [
             [
              0,
              "#0d0887"
             ],
             [
              0.1111111111111111,
              "#46039f"
             ],
             [
              0.2222222222222222,
              "#7201a8"
             ],
             [
              0.3333333333333333,
              "#9c179e"
             ],
             [
              0.4444444444444444,
              "#bd3786"
             ],
             [
              0.5555555555555556,
              "#d8576b"
             ],
             [
              0.6666666666666666,
              "#ed7953"
             ],
             [
              0.7777777777777778,
              "#fb9f3a"
             ],
             [
              0.8888888888888888,
              "#fdca26"
             ],
             [
              1,
              "#f0f921"
             ]
            ],
            "type": "heatmap"
           }
          ],
          "heatmapgl": [
           {
            "colorbar": {
             "outlinewidth": 0,
             "ticks": ""
            },
            "colorscale": [
             [
              0,
              "#0d0887"
             ],
             [
              0.1111111111111111,
              "#46039f"
             ],
             [
              0.2222222222222222,
              "#7201a8"
             ],
             [
              0.3333333333333333,
              "#9c179e"
             ],
             [
              0.4444444444444444,
              "#bd3786"
             ],
             [
              0.5555555555555556,
              "#d8576b"
             ],
             [
              0.6666666666666666,
              "#ed7953"
             ],
             [
              0.7777777777777778,
              "#fb9f3a"
             ],
             [
              0.8888888888888888,
              "#fdca26"
             ],
             [
              1,
              "#f0f921"
             ]
            ],
            "type": "heatmapgl"
           }
          ],
          "histogram": [
           {
            "marker": {
             "colorbar": {
              "outlinewidth": 0,
              "ticks": ""
             }
            },
            "type": "histogram"
           }
          ],
          "histogram2d": [
           {
            "colorbar": {
             "outlinewidth": 0,
             "ticks": ""
            },
            "colorscale": [
             [
              0,
              "#0d0887"
             ],
             [
              0.1111111111111111,
              "#46039f"
             ],
             [
              0.2222222222222222,
              "#7201a8"
             ],
             [
              0.3333333333333333,
              "#9c179e"
             ],
             [
              0.4444444444444444,
              "#bd3786"
             ],
             [
              0.5555555555555556,
              "#d8576b"
             ],
             [
              0.6666666666666666,
              "#ed7953"
             ],
             [
              0.7777777777777778,
              "#fb9f3a"
             ],
             [
              0.8888888888888888,
              "#fdca26"
             ],
             [
              1,
              "#f0f921"
             ]
            ],
            "type": "histogram2d"
           }
          ],
          "histogram2dcontour": [
           {
            "colorbar": {
             "outlinewidth": 0,
             "ticks": ""
            },
            "colorscale": [
             [
              0,
              "#0d0887"
             ],
             [
              0.1111111111111111,
              "#46039f"
             ],
             [
              0.2222222222222222,
              "#7201a8"
             ],
             [
              0.3333333333333333,
              "#9c179e"
             ],
             [
              0.4444444444444444,
              "#bd3786"
             ],
             [
              0.5555555555555556,
              "#d8576b"
             ],
             [
              0.6666666666666666,
              "#ed7953"
             ],
             [
              0.7777777777777778,
              "#fb9f3a"
             ],
             [
              0.8888888888888888,
              "#fdca26"
             ],
             [
              1,
              "#f0f921"
             ]
            ],
            "type": "histogram2dcontour"
           }
          ],
          "mesh3d": [
           {
            "colorbar": {
             "outlinewidth": 0,
             "ticks": ""
            },
            "type": "mesh3d"
           }
          ],
          "parcoords": [
           {
            "line": {
             "colorbar": {
              "outlinewidth": 0,
              "ticks": ""
             }
            },
            "type": "parcoords"
           }
          ],
          "scatter": [
           {
            "marker": {
             "colorbar": {
              "outlinewidth": 0,
              "ticks": ""
             }
            },
            "type": "scatter"
           }
          ],
          "scatter3d": [
           {
            "line": {
             "colorbar": {
              "outlinewidth": 0,
              "ticks": ""
             }
            },
            "marker": {
             "colorbar": {
              "outlinewidth": 0,
              "ticks": ""
             }
            },
            "type": "scatter3d"
           }
          ],
          "scattercarpet": [
           {
            "marker": {
             "colorbar": {
              "outlinewidth": 0,
              "ticks": ""
             }
            },
            "type": "scattercarpet"
           }
          ],
          "scattergeo": [
           {
            "marker": {
             "colorbar": {
              "outlinewidth": 0,
              "ticks": ""
             }
            },
            "type": "scattergeo"
           }
          ],
          "scattergl": [
           {
            "marker": {
             "colorbar": {
              "outlinewidth": 0,
              "ticks": ""
             }
            },
            "type": "scattergl"
           }
          ],
          "scattermapbox": [
           {
            "marker": {
             "colorbar": {
              "outlinewidth": 0,
              "ticks": ""
             }
            },
            "type": "scattermapbox"
           }
          ],
          "scatterpolar": [
           {
            "marker": {
             "colorbar": {
              "outlinewidth": 0,
              "ticks": ""
             }
            },
            "type": "scatterpolar"
           }
          ],
          "scatterpolargl": [
           {
            "marker": {
             "colorbar": {
              "outlinewidth": 0,
              "ticks": ""
             }
            },
            "type": "scatterpolargl"
           }
          ],
          "scatterternary": [
           {
            "marker": {
             "colorbar": {
              "outlinewidth": 0,
              "ticks": ""
             }
            },
            "type": "scatterternary"
           }
          ],
          "surface": [
           {
            "colorbar": {
             "outlinewidth": 0,
             "ticks": ""
            },
            "colorscale": [
             [
              0,
              "#0d0887"
             ],
             [
              0.1111111111111111,
              "#46039f"
             ],
             [
              0.2222222222222222,
              "#7201a8"
             ],
             [
              0.3333333333333333,
              "#9c179e"
             ],
             [
              0.4444444444444444,
              "#bd3786"
             ],
             [
              0.5555555555555556,
              "#d8576b"
             ],
             [
              0.6666666666666666,
              "#ed7953"
             ],
             [
              0.7777777777777778,
              "#fb9f3a"
             ],
             [
              0.8888888888888888,
              "#fdca26"
             ],
             [
              1,
              "#f0f921"
             ]
            ],
            "type": "surface"
           }
          ],
          "table": [
           {
            "cells": {
             "fill": {
              "color": "#EBF0F8"
             },
             "line": {
              "color": "white"
             }
            },
            "header": {
             "fill": {
              "color": "#C8D4E3"
             },
             "line": {
              "color": "white"
             }
            },
            "type": "table"
           }
          ]
         },
         "layout": {
          "annotationdefaults": {
           "arrowcolor": "#2a3f5f",
           "arrowhead": 0,
           "arrowwidth": 1
          },
          "colorscale": {
           "diverging": [
            [
             0,
             "#8e0152"
            ],
            [
             0.1,
             "#c51b7d"
            ],
            [
             0.2,
             "#de77ae"
            ],
            [
             0.3,
             "#f1b6da"
            ],
            [
             0.4,
             "#fde0ef"
            ],
            [
             0.5,
             "#f7f7f7"
            ],
            [
             0.6,
             "#e6f5d0"
            ],
            [
             0.7,
             "#b8e186"
            ],
            [
             0.8,
             "#7fbc41"
            ],
            [
             0.9,
             "#4d9221"
            ],
            [
             1,
             "#276419"
            ]
           ],
           "sequential": [
            [
             0,
             "#0d0887"
            ],
            [
             0.1111111111111111,
             "#46039f"
            ],
            [
             0.2222222222222222,
             "#7201a8"
            ],
            [
             0.3333333333333333,
             "#9c179e"
            ],
            [
             0.4444444444444444,
             "#bd3786"
            ],
            [
             0.5555555555555556,
             "#d8576b"
            ],
            [
             0.6666666666666666,
             "#ed7953"
            ],
            [
             0.7777777777777778,
             "#fb9f3a"
            ],
            [
             0.8888888888888888,
             "#fdca26"
            ],
            [
             1,
             "#f0f921"
            ]
           ],
           "sequentialminus": [
            [
             0,
             "#0d0887"
            ],
            [
             0.1111111111111111,
             "#46039f"
            ],
            [
             0.2222222222222222,
             "#7201a8"
            ],
            [
             0.3333333333333333,
             "#9c179e"
            ],
            [
             0.4444444444444444,
             "#bd3786"
            ],
            [
             0.5555555555555556,
             "#d8576b"
            ],
            [
             0.6666666666666666,
             "#ed7953"
            ],
            [
             0.7777777777777778,
             "#fb9f3a"
            ],
            [
             0.8888888888888888,
             "#fdca26"
            ],
            [
             1,
             "#f0f921"
            ]
           ]
          },
          "colorway": [
           "#636efa",
           "#EF553B",
           "#00cc96",
           "#ab63fa",
           "#FFA15A",
           "#19d3f3",
           "#FF6692",
           "#B6E880",
           "#FF97FF",
           "#FECB52"
          ],
          "font": {
           "color": "#2a3f5f"
          },
          "geo": {
           "bgcolor": "white",
           "lakecolor": "white",
           "landcolor": "#E5ECF6",
           "showlakes": true,
           "showland": true,
           "subunitcolor": "white"
          },
          "hoverlabel": {
           "align": "left"
          },
          "hovermode": "closest",
          "mapbox": {
           "style": "light"
          },
          "paper_bgcolor": "white",
          "plot_bgcolor": "#E5ECF6",
          "polar": {
           "angularaxis": {
            "gridcolor": "white",
            "linecolor": "white",
            "ticks": ""
           },
           "bgcolor": "#E5ECF6",
           "radialaxis": {
            "gridcolor": "white",
            "linecolor": "white",
            "ticks": ""
           }
          },
          "scene": {
           "xaxis": {
            "backgroundcolor": "#E5ECF6",
            "gridcolor": "white",
            "gridwidth": 2,
            "linecolor": "white",
            "showbackground": true,
            "ticks": "",
            "zerolinecolor": "white"
           },
           "yaxis": {
            "backgroundcolor": "#E5ECF6",
            "gridcolor": "white",
            "gridwidth": 2,
            "linecolor": "white",
            "showbackground": true,
            "ticks": "",
            "zerolinecolor": "white"
           },
           "zaxis": {
            "backgroundcolor": "#E5ECF6",
            "gridcolor": "white",
            "gridwidth": 2,
            "linecolor": "white",
            "showbackground": true,
            "ticks": "",
            "zerolinecolor": "white"
           }
          },
          "shapedefaults": {
           "line": {
            "color": "#2a3f5f"
           }
          },
          "ternary": {
           "aaxis": {
            "gridcolor": "white",
            "linecolor": "white",
            "ticks": ""
           },
           "baxis": {
            "gridcolor": "white",
            "linecolor": "white",
            "ticks": ""
           },
           "bgcolor": "#E5ECF6",
           "caxis": {
            "gridcolor": "white",
            "linecolor": "white",
            "ticks": ""
           }
          },
          "title": {
           "x": 0.05
          },
          "xaxis": {
           "automargin": true,
           "gridcolor": "white",
           "linecolor": "white",
           "ticks": "",
           "zerolinecolor": "white",
           "zerolinewidth": 2
          },
          "yaxis": {
           "automargin": true,
           "gridcolor": "white",
           "linecolor": "white",
           "ticks": "",
           "zerolinecolor": "white",
           "zerolinewidth": 2
          }
         }
        },
        "title": {
         "text": "2018 Sum of Homeless by State"
        }
       }
      },
      "text/html": [
       "<div>\n",
       "        \n",
       "        \n",
       "            <div id=\"dd53f205-8d28-407b-8483-af23c2d61ab9\" class=\"plotly-graph-div\" style=\"height:525px; width:100%;\"></div>\n",
       "            <script type=\"text/javascript\">\n",
       "                require([\"plotly\"], function(Plotly) {\n",
       "                    window.PLOTLYENV=window.PLOTLYENV || {};\n",
       "                    \n",
       "                if (document.getElementById(\"dd53f205-8d28-407b-8483-af23c2d61ab9\")) {\n",
       "                    Plotly.newPlot(\n",
       "                        'dd53f205-8d28-407b-8483-af23c2d61ab9',\n",
       "                        [{\"colorbar\": {\"title\": {\"text\": \"Count of Homeless\"}}, \"colorscale\": [[0.0, \"rgb(247,251,255)\"], [0.125, \"rgb(222,235,247)\"], [0.25, \"rgb(198,219,239)\"], [0.375, \"rgb(158,202,225)\"], [0.5, \"rgb(107,174,214)\"], [0.625, \"rgb(66,146,198)\"], [0.75, \"rgb(33,113,181)\"], [0.875, \"rgb(8,81,156)\"], [1.0, \"rgb(8,48,107)\"]], \"locationmode\": \"USA-states\", \"locations\": [\"AK\", \"AL\", \"AR\", \"AZ\", \"CA\", \"CO\", \"CT\", \"DC\", \"DE\", \"FL\", \"GA\", \"GU\", \"HI\", \"IA\", \"ID\", \"IL\", \"IN\", \"KS\", \"KY\", \"LA\", \"MA\", \"MD\", \"ME\", \"MI\", \"MN\", \"MO\", \"MP\", \"MS\", \"MT\", \"NC\", \"ND\", \"NE\", \"NH\", \"NJ\", \"NM\", \"NV\", \"NY\", \"OH\", \"OK\", \"OR\", \"PA\", \"PR\", \"RI\", \"SC\", \"SD\", \"TN\", \"TX\", \"UT\", \"VA\", \"VI\", \"VT\", \"WA\", \"WI\", \"WV\", \"WY\"], \"type\": \"choropleth\", \"z\": [2016.0, 3434.0, 2712.0, 9865.0, 129972.0, 10857.0, 3976.0, 6904.0, 1082.0, 31030.0, 9499.0, 854.0, 6530.0, 2749.0, 2012.0, 10643.0, 5258.0, 2067.0, 3688.0, 3059.0, 20068.0, 7144.0, 2516.0, 8351.0, 7243.0, 6032.0, 1044.0, 1352.0, 1405.0, 9268.0, 542.0, 2421.0, 1450.0, 9398.0, 2551.0, 7544.0, 91897.0, 10249.0, 3871.0, 14476.0, 13512.0, 3182.0, 1101.0, 3933.0, 1159.0, 7883.0, 25310.0, 2876.0, 5975.0, 486.0, 1291.0, 22304.0, 4907.0, 1243.0, 639.0]}],\n",
       "                        {\"geo\": {\"scope\": \"usa\"}, \"template\": {\"data\": {\"bar\": [{\"error_x\": {\"color\": \"#2a3f5f\"}, \"error_y\": {\"color\": \"#2a3f5f\"}, \"marker\": {\"line\": {\"color\": \"#E5ECF6\", \"width\": 0.5}}, \"type\": \"bar\"}], \"barpolar\": [{\"marker\": {\"line\": {\"color\": \"#E5ECF6\", \"width\": 0.5}}, \"type\": \"barpolar\"}], \"carpet\": [{\"aaxis\": {\"endlinecolor\": \"#2a3f5f\", \"gridcolor\": \"white\", \"linecolor\": \"white\", \"minorgridcolor\": \"white\", \"startlinecolor\": \"#2a3f5f\"}, \"baxis\": {\"endlinecolor\": \"#2a3f5f\", \"gridcolor\": \"white\", \"linecolor\": \"white\", \"minorgridcolor\": \"white\", \"startlinecolor\": \"#2a3f5f\"}, \"type\": \"carpet\"}], \"choropleth\": [{\"colorbar\": {\"outlinewidth\": 0, \"ticks\": \"\"}, \"type\": \"choropleth\"}], \"contour\": [{\"colorbar\": {\"outlinewidth\": 0, \"ticks\": \"\"}, \"colorscale\": [[0.0, \"#0d0887\"], [0.1111111111111111, \"#46039f\"], [0.2222222222222222, \"#7201a8\"], [0.3333333333333333, \"#9c179e\"], [0.4444444444444444, \"#bd3786\"], [0.5555555555555556, \"#d8576b\"], [0.6666666666666666, \"#ed7953\"], [0.7777777777777778, \"#fb9f3a\"], [0.8888888888888888, \"#fdca26\"], [1.0, \"#f0f921\"]], \"type\": \"contour\"}], \"contourcarpet\": [{\"colorbar\": {\"outlinewidth\": 0, \"ticks\": \"\"}, \"type\": \"contourcarpet\"}], \"heatmap\": [{\"colorbar\": {\"outlinewidth\": 0, \"ticks\": \"\"}, \"colorscale\": [[0.0, \"#0d0887\"], [0.1111111111111111, \"#46039f\"], [0.2222222222222222, \"#7201a8\"], [0.3333333333333333, \"#9c179e\"], [0.4444444444444444, \"#bd3786\"], [0.5555555555555556, \"#d8576b\"], [0.6666666666666666, \"#ed7953\"], [0.7777777777777778, \"#fb9f3a\"], [0.8888888888888888, \"#fdca26\"], [1.0, \"#f0f921\"]], \"type\": \"heatmap\"}], \"heatmapgl\": [{\"colorbar\": {\"outlinewidth\": 0, \"ticks\": \"\"}, \"colorscale\": [[0.0, \"#0d0887\"], [0.1111111111111111, \"#46039f\"], [0.2222222222222222, \"#7201a8\"], [0.3333333333333333, \"#9c179e\"], [0.4444444444444444, \"#bd3786\"], [0.5555555555555556, \"#d8576b\"], [0.6666666666666666, \"#ed7953\"], [0.7777777777777778, \"#fb9f3a\"], [0.8888888888888888, \"#fdca26\"], [1.0, \"#f0f921\"]], \"type\": \"heatmapgl\"}], \"histogram\": [{\"marker\": {\"colorbar\": {\"outlinewidth\": 0, \"ticks\": \"\"}}, \"type\": \"histogram\"}], \"histogram2d\": [{\"colorbar\": {\"outlinewidth\": 0, \"ticks\": \"\"}, \"colorscale\": [[0.0, \"#0d0887\"], [0.1111111111111111, \"#46039f\"], [0.2222222222222222, \"#7201a8\"], [0.3333333333333333, \"#9c179e\"], [0.4444444444444444, \"#bd3786\"], [0.5555555555555556, \"#d8576b\"], [0.6666666666666666, \"#ed7953\"], [0.7777777777777778, \"#fb9f3a\"], [0.8888888888888888, \"#fdca26\"], [1.0, \"#f0f921\"]], \"type\": \"histogram2d\"}], \"histogram2dcontour\": [{\"colorbar\": {\"outlinewidth\": 0, \"ticks\": \"\"}, \"colorscale\": [[0.0, \"#0d0887\"], [0.1111111111111111, \"#46039f\"], [0.2222222222222222, \"#7201a8\"], [0.3333333333333333, \"#9c179e\"], [0.4444444444444444, \"#bd3786\"], [0.5555555555555556, \"#d8576b\"], [0.6666666666666666, \"#ed7953\"], [0.7777777777777778, \"#fb9f3a\"], [0.8888888888888888, \"#fdca26\"], [1.0, \"#f0f921\"]], \"type\": \"histogram2dcontour\"}], \"mesh3d\": [{\"colorbar\": {\"outlinewidth\": 0, \"ticks\": \"\"}, \"type\": \"mesh3d\"}], \"parcoords\": [{\"line\": {\"colorbar\": {\"outlinewidth\": 0, \"ticks\": \"\"}}, \"type\": \"parcoords\"}], \"scatter\": [{\"marker\": {\"colorbar\": {\"outlinewidth\": 0, \"ticks\": \"\"}}, \"type\": \"scatter\"}], \"scatter3d\": [{\"line\": {\"colorbar\": {\"outlinewidth\": 0, \"ticks\": \"\"}}, \"marker\": {\"colorbar\": {\"outlinewidth\": 0, \"ticks\": \"\"}}, \"type\": \"scatter3d\"}], \"scattercarpet\": [{\"marker\": {\"colorbar\": {\"outlinewidth\": 0, \"ticks\": \"\"}}, \"type\": \"scattercarpet\"}], \"scattergeo\": [{\"marker\": {\"colorbar\": {\"outlinewidth\": 0, \"ticks\": \"\"}}, \"type\": \"scattergeo\"}], \"scattergl\": [{\"marker\": {\"colorbar\": {\"outlinewidth\": 0, \"ticks\": \"\"}}, \"type\": \"scattergl\"}], \"scattermapbox\": [{\"marker\": {\"colorbar\": {\"outlinewidth\": 0, \"ticks\": \"\"}}, \"type\": \"scattermapbox\"}], \"scatterpolar\": [{\"marker\": {\"colorbar\": {\"outlinewidth\": 0, \"ticks\": \"\"}}, \"type\": \"scatterpolar\"}], \"scatterpolargl\": [{\"marker\": {\"colorbar\": {\"outlinewidth\": 0, \"ticks\": \"\"}}, \"type\": \"scatterpolargl\"}], \"scatterternary\": [{\"marker\": {\"colorbar\": {\"outlinewidth\": 0, \"ticks\": \"\"}}, \"type\": \"scatterternary\"}], \"surface\": [{\"colorbar\": {\"outlinewidth\": 0, \"ticks\": \"\"}, \"colorscale\": [[0.0, \"#0d0887\"], [0.1111111111111111, \"#46039f\"], [0.2222222222222222, \"#7201a8\"], [0.3333333333333333, \"#9c179e\"], [0.4444444444444444, \"#bd3786\"], [0.5555555555555556, \"#d8576b\"], [0.6666666666666666, \"#ed7953\"], [0.7777777777777778, \"#fb9f3a\"], [0.8888888888888888, \"#fdca26\"], [1.0, \"#f0f921\"]], \"type\": \"surface\"}], \"table\": [{\"cells\": {\"fill\": {\"color\": \"#EBF0F8\"}, \"line\": {\"color\": \"white\"}}, \"header\": {\"fill\": {\"color\": \"#C8D4E3\"}, \"line\": {\"color\": \"white\"}}, \"type\": \"table\"}]}, \"layout\": {\"annotationdefaults\": {\"arrowcolor\": \"#2a3f5f\", \"arrowhead\": 0, \"arrowwidth\": 1}, \"colorscale\": {\"diverging\": [[0, \"#8e0152\"], [0.1, \"#c51b7d\"], [0.2, \"#de77ae\"], [0.3, \"#f1b6da\"], [0.4, \"#fde0ef\"], [0.5, \"#f7f7f7\"], [0.6, \"#e6f5d0\"], [0.7, \"#b8e186\"], [0.8, \"#7fbc41\"], [0.9, \"#4d9221\"], [1, \"#276419\"]], \"sequential\": [[0.0, \"#0d0887\"], [0.1111111111111111, \"#46039f\"], [0.2222222222222222, \"#7201a8\"], [0.3333333333333333, \"#9c179e\"], [0.4444444444444444, \"#bd3786\"], [0.5555555555555556, \"#d8576b\"], [0.6666666666666666, \"#ed7953\"], [0.7777777777777778, \"#fb9f3a\"], [0.8888888888888888, \"#fdca26\"], [1.0, \"#f0f921\"]], \"sequentialminus\": [[0.0, \"#0d0887\"], [0.1111111111111111, \"#46039f\"], [0.2222222222222222, \"#7201a8\"], [0.3333333333333333, \"#9c179e\"], [0.4444444444444444, \"#bd3786\"], [0.5555555555555556, \"#d8576b\"], [0.6666666666666666, \"#ed7953\"], [0.7777777777777778, \"#fb9f3a\"], [0.8888888888888888, \"#fdca26\"], [1.0, \"#f0f921\"]]}, \"colorway\": [\"#636efa\", \"#EF553B\", \"#00cc96\", \"#ab63fa\", \"#FFA15A\", \"#19d3f3\", \"#FF6692\", \"#B6E880\", \"#FF97FF\", \"#FECB52\"], \"font\": {\"color\": \"#2a3f5f\"}, \"geo\": {\"bgcolor\": \"white\", \"lakecolor\": \"white\", \"landcolor\": \"#E5ECF6\", \"showlakes\": true, \"showland\": true, \"subunitcolor\": \"white\"}, \"hoverlabel\": {\"align\": \"left\"}, \"hovermode\": \"closest\", \"mapbox\": {\"style\": \"light\"}, \"paper_bgcolor\": \"white\", \"plot_bgcolor\": \"#E5ECF6\", \"polar\": {\"angularaxis\": {\"gridcolor\": \"white\", \"linecolor\": \"white\", \"ticks\": \"\"}, \"bgcolor\": \"#E5ECF6\", \"radialaxis\": {\"gridcolor\": \"white\", \"linecolor\": \"white\", \"ticks\": \"\"}}, \"scene\": {\"xaxis\": {\"backgroundcolor\": \"#E5ECF6\", \"gridcolor\": \"white\", \"gridwidth\": 2, \"linecolor\": \"white\", \"showbackground\": true, \"ticks\": \"\", \"zerolinecolor\": \"white\"}, \"yaxis\": {\"backgroundcolor\": \"#E5ECF6\", \"gridcolor\": \"white\", \"gridwidth\": 2, \"linecolor\": \"white\", \"showbackground\": true, \"ticks\": \"\", \"zerolinecolor\": \"white\"}, \"zaxis\": {\"backgroundcolor\": \"#E5ECF6\", \"gridcolor\": \"white\", \"gridwidth\": 2, \"linecolor\": \"white\", \"showbackground\": true, \"ticks\": \"\", \"zerolinecolor\": \"white\"}}, \"shapedefaults\": {\"line\": {\"color\": \"#2a3f5f\"}}, \"ternary\": {\"aaxis\": {\"gridcolor\": \"white\", \"linecolor\": \"white\", \"ticks\": \"\"}, \"baxis\": {\"gridcolor\": \"white\", \"linecolor\": \"white\", \"ticks\": \"\"}, \"bgcolor\": \"#E5ECF6\", \"caxis\": {\"gridcolor\": \"white\", \"linecolor\": \"white\", \"ticks\": \"\"}}, \"title\": {\"x\": 0.05}, \"xaxis\": {\"automargin\": true, \"gridcolor\": \"white\", \"linecolor\": \"white\", \"ticks\": \"\", \"zerolinecolor\": \"white\", \"zerolinewidth\": 2}, \"yaxis\": {\"automargin\": true, \"gridcolor\": \"white\", \"linecolor\": \"white\", \"ticks\": \"\", \"zerolinecolor\": \"white\", \"zerolinewidth\": 2}}}, \"title\": {\"text\": \"2018 Sum of Homeless by State\"}},\n",
       "                        {\"responsive\": true}\n",
       "                    ).then(function(){\n",
       "                            \n",
       "var gd = document.getElementById('dd53f205-8d28-407b-8483-af23c2d61ab9');\n",
       "var x = new MutationObserver(function (mutations, observer) {{\n",
       "        var display = window.getComputedStyle(gd).display;\n",
       "        if (!display || display === 'none') {{\n",
       "            console.log([gd, 'removed!']);\n",
       "            Plotly.purge(gd);\n",
       "            observer.disconnect();\n",
       "        }}\n",
       "}});\n",
       "\n",
       "// Listen for the removal of the full notebook cells\n",
       "var notebookContainer = gd.closest('#notebook-container');\n",
       "if (notebookContainer) {{\n",
       "    x.observe(notebookContainer, {childList: true});\n",
       "}}\n",
       "\n",
       "// Listen for the clearing of the current output cell\n",
       "var outputEl = gd.closest('.output');\n",
       "if (outputEl) {{\n",
       "    x.observe(outputEl, {childList: true});\n",
       "}}\n",
       "\n",
       "                        })\n",
       "                };\n",
       "                });\n",
       "            </script>\n",
       "        </div>"
      ]
     },
     "metadata": {},
     "output_type": "display_data"
    }
   ],
   "source": [
    "fig = go.Figure(data=go.Choropleth(\n",
    "    locations=pit_summ_by_state_2018['State Code'], # Spatial coordinates\n",
    "    z = pit_summ_by_state_2018['Overall Homeless sum'].astype(float), # Data to be color-coded\n",
    "    locationmode = 'USA-states', # set of locations match entries in `locations`\n",
    "    colorscale = 'Blues',\n",
    "    colorbar_title = \"Count of Homeless\",\n",
    "))\n",
    "\n",
    "fig.update_layout(\n",
    "    title_text = '2018 Sum of Homeless by State',\n",
    "    geo_scope='usa', # limite map scope to USA\n",
    ")\n",
    "\n",
    "fig.show()\n"
   ]
  },
  {
   "cell_type": "code",
   "execution_count": 52,
   "metadata": {
    "scrolled": true
   },
   "outputs": [
    {
     "data": {
      "text/html": [
       "<table border=\"1\" class=\"dataframe\">\n",
       "    <thead>\n",
       "        <tr>\n",
       "            <th>CoC Number</th> <th>Year</th> <th>CoC Name sum</th> <th>Overall Homeless sum</th> <th>Sheltered Total Homeless sum</th> <th>Unsheltered Homeless sum</th> <th>Homeless Individuals sum</th> <th>Sheltered Total Homeless Individuals sum</th> <th>Unsheltered Homeless Individuals sum</th> <th>Homeless People in Families sum</th> <th>Sheltered Total Homeless People in Families sum</th> <th>Unsheltered Homeless People in Families sum</th> <th>Homeless Family Households sum</th> <th>Sheltered Total Homeless Family Households sum</th> <th>Unsheltered Homeless Family Households sum</th> <th>Chronically Homeless Individuals sum</th> <th>Sheltered Total Chronically Homeless Individuals sum</th> <th>Unsheltered Chronically Homeless Individuals sum</th> <th>Total Year-Round Beds (ES, TH, SH) sum</th> <th>Total Year-Round Beds (ES) sum</th> <th>Total Year-Round Beds (SH) sum</th> <th>Total Year-Round Beds (TH) sum</th>\n",
       "        </tr>\n",
       "    </thead>\n",
       "    <tbody>\n",
       "        <tr>\n",
       "            <td>AK-500    </td> <td>2007</td> <td>            </td> <td>974                 </td> <td>842                         </td> <td>132                     </td> <td>696                     </td> <td>589                                     </td> <td>107                                 </td> <td>278                            </td> <td>253                                            </td> <td>25                                         </td> <td>93                            </td> <td>85                                            </td> <td>8                                         </td> <td>224                                 </td> <td>187                                                 </td> <td>37                                              </td> <td>nan                                   </td> <td>500                           </td> <td>nan                           </td> <td>384                           </td>\n",
       "        </tr>\n",
       "        <tr>\n",
       "            <td>AK-500    </td> <td>2008</td> <td>            </td> <td>1023                </td> <td>921                         </td> <td>102                     </td> <td>695                     </td> <td>596                                     </td> <td>99                                  </td> <td>328                            </td> <td>325                                            </td> <td>3                                          </td> <td>84                            </td> <td>83                                            </td> <td>1                                         </td> <td>300                                 </td> <td>239                                                 </td> <td>61                                              </td> <td>899                                   </td> <td>540                           </td> <td>0                             </td> <td>359                           </td>\n",
       "        </tr>\n",
       "        <tr>\n",
       "            <td>AK-500    </td> <td>2009</td> <td>            </td> <td>1267                </td> <td>1110                        </td> <td>157                     </td> <td>821                     </td> <td>689                                     </td> <td>132                                 </td> <td>446                            </td> <td>421                                            </td> <td>25                                         </td> <td>133                           </td> <td>124                                           </td> <td>9                                         </td> <td>198                                 </td> <td>152                                                 </td> <td>46                                              </td> <td>877                                   </td> <td>548                           </td> <td>0                             </td> <td>329                           </td>\n",
       "        </tr>\n",
       "        <tr>\n",
       "            <td>AK-500    </td> <td>2010</td> <td>            </td> <td>1231                </td> <td>1113                        </td> <td>118                     </td> <td>740                     </td> <td>633                                     </td> <td>107                                 </td> <td>491                            </td> <td>480                                            </td> <td>11                                         </td> <td>151                           </td> <td>147                                           </td> <td>4                                         </td> <td>56                                  </td> <td>43                                                  </td> <td>13                                              </td> <td>990                                   </td> <td>548                           </td> <td>0                             </td> <td>442                           </td>\n",
       "        </tr>\n",
       "        <tr>\n",
       "            <td>AK-500    </td> <td>2011</td> <td>            </td> <td>1223                </td> <td>1082                        </td> <td>141                     </td> <td>794                     </td> <td>677                                     </td> <td>117                                 </td> <td>429                            </td> <td>405                                            </td> <td>24                                         </td> <td>138                           </td> <td>131                                           </td> <td>7                                         </td> <td>112                                 </td> <td>94                                                  </td> <td>18                                              </td> <td>1056                                  </td> <td>579                           </td> <td>0                             </td> <td>477                           </td>\n",
       "        </tr>\n",
       "        <tr>\n",
       "            <td>AK-500    </td> <td>2012</td> <td>            </td> <td>1147                </td> <td>1097                        </td> <td>50                      </td> <td>791                     </td> <td>756                                     </td> <td>35                                  </td> <td>356                            </td> <td>341                                            </td> <td>15                                         </td> <td>126                           </td> <td>122                                           </td> <td>4                                         </td> <td>113                                 </td> <td>108                                                 </td> <td>5                                               </td> <td>1001                                  </td> <td>571                           </td> <td>0                             </td> <td>430                           </td>\n",
       "        </tr>\n",
       "        <tr>\n",
       "            <td>AK-500    </td> <td>2013</td> <td>            </td> <td>1122                </td> <td>1070                        </td> <td>52                      </td> <td>844                     </td> <td>792                                     </td> <td>52                                  </td> <td>278                            </td> <td>278                                            </td> <td>0                                          </td> <td>87                            </td> <td>87                                            </td> <td>0                                         </td> <td>83                                  </td> <td>62                                                  </td> <td>21                                              </td> <td>1015                                  </td> <td>574                           </td> <td>0                             </td> <td>441                           </td>\n",
       "        </tr>\n",
       "        <tr>\n",
       "            <td>AK-500    </td> <td>2014</td> <td>            </td> <td>1023                </td> <td>970                         </td> <td>53                      </td> <td>736                     </td> <td>688                                     </td> <td>48                                  </td> <td>287                            </td> <td>282                                            </td> <td>5                                          </td> <td>102                           </td> <td>100                                           </td> <td>2                                         </td> <td>94                                  </td> <td>56                                                  </td> <td>38                                              </td> <td>988                                   </td> <td>606                           </td> <td>0                             </td> <td>382                           </td>\n",
       "        </tr>\n",
       "        <tr>\n",
       "            <td>AK-500    </td> <td>2015</td> <td>            </td> <td>1208                </td> <td>1029                        </td> <td>179                     </td> <td>837                     </td> <td>679                                     </td> <td>158                                 </td> <td>371                            </td> <td>350                                            </td> <td>21                                         </td> <td>101                           </td> <td>94                                            </td> <td>7                                         </td> <td>106                                 </td> <td>27                                                  </td> <td>79                                              </td> <td>1019                                  </td> <td>603                           </td> <td>0                             </td> <td>416                           </td>\n",
       "        </tr>\n",
       "        <tr>\n",
       "            <td>AK-500    </td> <td>2016</td> <td>            </td> <td>1105                </td> <td>865                         </td> <td>240                     </td> <td>905                     </td> <td>665                                     </td> <td>240                                 </td> <td>200                            </td> <td>200                                            </td> <td>0                                          </td> <td>69                            </td> <td>69                                            </td> <td>0                                         </td> <td>48                                  </td> <td>46                                                  </td> <td>2                                               </td> <td>1007                                  </td> <td>553                           </td> <td>0                             </td> <td>454                           </td>\n",
       "        </tr>\n",
       "    </tbody>\n",
       "</table>\n",
       "<p>... (4691 rows omitted)</p>"
      ],
      "text/plain": [
       "CoC Number | Year | CoC Name sum | Overall Homeless sum | Sheltered Total Homeless sum | Unsheltered Homeless sum | Homeless Individuals sum | Sheltered Total Homeless Individuals sum | Unsheltered Homeless Individuals sum | Homeless People in Families sum | Sheltered Total Homeless People in Families sum | Unsheltered Homeless People in Families sum | Homeless Family Households sum | Sheltered Total Homeless Family Households sum | Unsheltered Homeless Family Households sum | Chronically Homeless Individuals sum | Sheltered Total Chronically Homeless Individuals sum | Unsheltered Chronically Homeless Individuals sum | Total Year-Round Beds (ES, TH, SH) sum | Total Year-Round Beds (ES) sum | Total Year-Round Beds (SH) sum | Total Year-Round Beds (TH) sum\n",
       "AK-500     | 2007 |              | 974                  | 842                          | 132                      | 696                      | 589                                      | 107                                  | 278                             | 253                                             | 25                                          | 93                             | 85                                             | 8                                          | 224                                  | 187                                                  | 37                                               | nan                                    | 500                            | nan                            | 384\n",
       "AK-500     | 2008 |              | 1023                 | 921                          | 102                      | 695                      | 596                                      | 99                                   | 328                             | 325                                             | 3                                           | 84                             | 83                                             | 1                                          | 300                                  | 239                                                  | 61                                               | 899                                    | 540                            | 0                              | 359\n",
       "AK-500     | 2009 |              | 1267                 | 1110                         | 157                      | 821                      | 689                                      | 132                                  | 446                             | 421                                             | 25                                          | 133                            | 124                                            | 9                                          | 198                                  | 152                                                  | 46                                               | 877                                    | 548                            | 0                              | 329\n",
       "AK-500     | 2010 |              | 1231                 | 1113                         | 118                      | 740                      | 633                                      | 107                                  | 491                             | 480                                             | 11                                          | 151                            | 147                                            | 4                                          | 56                                   | 43                                                   | 13                                               | 990                                    | 548                            | 0                              | 442\n",
       "AK-500     | 2011 |              | 1223                 | 1082                         | 141                      | 794                      | 677                                      | 117                                  | 429                             | 405                                             | 24                                          | 138                            | 131                                            | 7                                          | 112                                  | 94                                                   | 18                                               | 1056                                   | 579                            | 0                              | 477\n",
       "AK-500     | 2012 |              | 1147                 | 1097                         | 50                       | 791                      | 756                                      | 35                                   | 356                             | 341                                             | 15                                          | 126                            | 122                                            | 4                                          | 113                                  | 108                                                  | 5                                                | 1001                                   | 571                            | 0                              | 430\n",
       "AK-500     | 2013 |              | 1122                 | 1070                         | 52                       | 844                      | 792                                      | 52                                   | 278                             | 278                                             | 0                                           | 87                             | 87                                             | 0                                          | 83                                   | 62                                                   | 21                                               | 1015                                   | 574                            | 0                              | 441\n",
       "AK-500     | 2014 |              | 1023                 | 970                          | 53                       | 736                      | 688                                      | 48                                   | 287                             | 282                                             | 5                                           | 102                            | 100                                            | 2                                          | 94                                   | 56                                                   | 38                                               | 988                                    | 606                            | 0                              | 382\n",
       "AK-500     | 2015 |              | 1208                 | 1029                         | 179                      | 837                      | 679                                      | 158                                  | 371                             | 350                                             | 21                                          | 101                            | 94                                             | 7                                          | 106                                  | 27                                                   | 79                                               | 1019                                   | 603                            | 0                              | 416\n",
       "AK-500     | 2016 |              | 1105                 | 865                          | 240                      | 905                      | 665                                      | 240                                  | 200                             | 200                                             | 0                                           | 69                             | 69                                             | 0                                          | 48                                   | 46                                                   | 2                                                | 1007                                   | 553                            | 0                              | 454\n",
       "... (4691 rows omitted)"
      ]
     },
     "execution_count": 52,
     "metadata": {},
     "output_type": "execute_result"
    }
   ],
   "source": [
    "pb = pit_table.join([\"CoC Number\",\"Year\"], beds_table)\n",
    "pb\n",
    "pb_sum = pb.group([\"CoC Number\", \"Year\"], sum)\n",
    "pb_sum"
   ]
  },
  {
   "cell_type": "code",
   "execution_count": 39,
   "metadata": {},
   "outputs": [
    {
     "data": {
      "text/html": [
       "<table border=\"1\" class=\"dataframe\">\n",
       "    <thead>\n",
       "        <tr>\n",
       "            <th>State Code</th> <th>Year sum</th> <th>CoC Number sum</th> <th>Total Year-Round Beds (ES, TH, SH) sum</th> <th>Total Year-Round Beds (ES) sum</th> <th>Total Year-Round Beds (SH) sum</th> <th>Total Year-Round Beds (TH) sum</th>\n",
       "        </tr>\n",
       "    </thead>\n",
       "    <tbody>\n",
       "        <tr>\n",
       "            <td>AK        </td> <td>4036    </td> <td>              </td> <td>1940                                  </td> <td>1398                          </td> <td>0                             </td> <td>542                           </td>\n",
       "        </tr>\n",
       "        <tr>\n",
       "            <td>AL        </td> <td>16144   </td> <td>              </td> <td>3188                                  </td> <td>2114                          </td> <td>34                            </td> <td>1040                          </td>\n",
       "        </tr>\n",
       "        <tr>\n",
       "            <td>AR        </td> <td>12108   </td> <td>              </td> <td>2362                                  </td> <td>1738                          </td> <td>0                             </td> <td>624                           </td>\n",
       "        </tr>\n",
       "        <tr>\n",
       "            <td>AZ        </td> <td>6054    </td> <td>              </td> <td>6683                                  </td> <td>4058                          </td> <td>37                            </td> <td>2588                          </td>\n",
       "        </tr>\n",
       "        <tr>\n",
       "            <td>CA        </td> <td>86774   </td> <td>              </td> <td>43548                                 </td> <td>27246                         </td> <td>298                           </td> <td>16004                         </td>\n",
       "        </tr>\n",
       "        <tr>\n",
       "            <td>CO        </td> <td>6054    </td> <td>              </td> <td>7532                                  </td> <td>4425                          </td> <td>25                            </td> <td>3082                          </td>\n",
       "        </tr>\n",
       "        <tr>\n",
       "            <td>CT        </td> <td>4036    </td> <td>              </td> <td>3417                                  </td> <td>2835                          </td> <td>0                             </td> <td>582                           </td>\n",
       "        </tr>\n",
       "        <tr>\n",
       "            <td>DC        </td> <td>2018    </td> <td>              </td> <td>6721                                  </td> <td>5268                          </td> <td>0                             </td> <td>1453                          </td>\n",
       "        </tr>\n",
       "        <tr>\n",
       "            <td>DE        </td> <td>2018    </td> <td>              </td> <td>1122                                  </td> <td>629                           </td> <td>5                             </td> <td>488                           </td>\n",
       "        </tr>\n",
       "        <tr>\n",
       "            <td>FL        </td> <td>54486   </td> <td>              </td> <td>19554                                 </td> <td>12424                         </td> <td>182                           </td> <td>6948                          </td>\n",
       "        </tr>\n",
       "    </tbody>\n",
       "</table>\n",
       "<p>... (46 rows omitted)</p>"
      ],
      "text/plain": [
       "State Code | Year sum | CoC Number sum | Total Year-Round Beds (ES, TH, SH) sum | Total Year-Round Beds (ES) sum | Total Year-Round Beds (SH) sum | Total Year-Round Beds (TH) sum\n",
       "AK         | 4036     |                | 1940                                   | 1398                           | 0                              | 542\n",
       "AL         | 16144    |                | 3188                                   | 2114                           | 34                             | 1040\n",
       "AR         | 12108    |                | 2362                                   | 1738                           | 0                              | 624\n",
       "AZ         | 6054     |                | 6683                                   | 4058                           | 37                             | 2588\n",
       "CA         | 86774    |                | 43548                                  | 27246                          | 298                            | 16004\n",
       "CO         | 6054     |                | 7532                                   | 4425                           | 25                             | 3082\n",
       "CT         | 4036     |                | 3417                                   | 2835                           | 0                              | 582\n",
       "DC         | 2018     |                | 6721                                   | 5268                           | 0                              | 1453\n",
       "DE         | 2018     |                | 1122                                   | 629                            | 5                              | 488\n",
       "FL         | 54486    |                | 19554                                  | 12424                          | 182                            | 6948\n",
       "... (46 rows omitted)"
      ]
     },
     "execution_count": 39,
     "metadata": {},
     "output_type": "execute_result"
    }
   ],
   "source": [
    "states = beds_table.apply(get_state_code, \"CoC Number\")\n",
    "new_beds_table = beds_table.with_column(\"State Code\", states)\n",
    "new_beds_table\n",
    "\n",
    "beds_summ_by_state_2018 = new_beds_table.where(\"Year\", 2018).group(\"State Code\", sum)\n",
    "beds_summ_by_state_2018"
   ]
  },
  {
   "cell_type": "code",
   "execution_count": 40,
   "metadata": {},
   "outputs": [
    {
     "data": {
      "application/vnd.plotly.v1+json": {
       "config": {
        "plotlyServerURL": "https://plot.ly"
       },
       "data": [
        {
         "colorbar": {
          "title": {
           "text": "Count of Beds"
          }
         },
         "colorscale": [
          [
           0,
           "rgb(247,251,255)"
          ],
          [
           0.125,
           "rgb(222,235,247)"
          ],
          [
           0.25,
           "rgb(198,219,239)"
          ],
          [
           0.375,
           "rgb(158,202,225)"
          ],
          [
           0.5,
           "rgb(107,174,214)"
          ],
          [
           0.625,
           "rgb(66,146,198)"
          ],
          [
           0.75,
           "rgb(33,113,181)"
          ],
          [
           0.875,
           "rgb(8,81,156)"
          ],
          [
           1,
           "rgb(8,48,107)"
          ]
         ],
         "locationmode": "USA-states",
         "locations": [
          "AK",
          "AL",
          "AR",
          "AZ",
          "CA",
          "CO",
          "CT",
          "DC",
          "DE",
          "FL",
          "GA",
          "GU",
          "HI",
          "IA",
          "ID",
          "IL",
          "IN",
          "KS",
          "KY",
          "LA",
          "MA",
          "MD",
          "ME",
          "MI",
          "MN",
          "MO",
          "MP",
          "MS",
          "MT",
          "NC",
          "ND",
          "NE",
          "NH",
          "NJ",
          "NM",
          "NV",
          "NY",
          "OH",
          "OK",
          "OR",
          "PA",
          "PR",
          "RI",
          "SC",
          "SD",
          "TN",
          "TX",
          "Total",
          "UT",
          "VA",
          "VI",
          "VT",
          "WA",
          "WI",
          "WV",
          "WY"
         ],
         "type": "choropleth",
         "z": [
          1940,
          3188,
          2362,
          6683,
          43548,
          7532,
          3417,
          6721,
          1122,
          19554,
          7363,
          140,
          3599,
          3026,
          1413,
          10210,
          5568,
          2450,
          2875,
          2647,
          17310,
          5529,
          2734,
          8531,
          6660,
          5773,
          30,
          1079,
          1376,
          7963,
          726,
          2390,
          1349,
          7099,
          1651,
          3033,
          88063,
          9269,
          3339,
          6419,
          12909,
          955,
          1003,
          3001,
          1090,
          5674,
          18006,
          389622,
          2968,
          5303,
          205,
          937,
          15016,
          4721,
          1593,
          560
         ]
        }
       ],
       "layout": {
        "geo": {
         "scope": "usa"
        },
        "template": {
         "data": {
          "bar": [
           {
            "error_x": {
             "color": "#2a3f5f"
            },
            "error_y": {
             "color": "#2a3f5f"
            },
            "marker": {
             "line": {
              "color": "#E5ECF6",
              "width": 0.5
             }
            },
            "type": "bar"
           }
          ],
          "barpolar": [
           {
            "marker": {
             "line": {
              "color": "#E5ECF6",
              "width": 0.5
             }
            },
            "type": "barpolar"
           }
          ],
          "carpet": [
           {
            "aaxis": {
             "endlinecolor": "#2a3f5f",
             "gridcolor": "white",
             "linecolor": "white",
             "minorgridcolor": "white",
             "startlinecolor": "#2a3f5f"
            },
            "baxis": {
             "endlinecolor": "#2a3f5f",
             "gridcolor": "white",
             "linecolor": "white",
             "minorgridcolor": "white",
             "startlinecolor": "#2a3f5f"
            },
            "type": "carpet"
           }
          ],
          "choropleth": [
           {
            "colorbar": {
             "outlinewidth": 0,
             "ticks": ""
            },
            "type": "choropleth"
           }
          ],
          "contour": [
           {
            "colorbar": {
             "outlinewidth": 0,
             "ticks": ""
            },
            "colorscale": [
             [
              0,
              "#0d0887"
             ],
             [
              0.1111111111111111,
              "#46039f"
             ],
             [
              0.2222222222222222,
              "#7201a8"
             ],
             [
              0.3333333333333333,
              "#9c179e"
             ],
             [
              0.4444444444444444,
              "#bd3786"
             ],
             [
              0.5555555555555556,
              "#d8576b"
             ],
             [
              0.6666666666666666,
              "#ed7953"
             ],
             [
              0.7777777777777778,
              "#fb9f3a"
             ],
             [
              0.8888888888888888,
              "#fdca26"
             ],
             [
              1,
              "#f0f921"
             ]
            ],
            "type": "contour"
           }
          ],
          "contourcarpet": [
           {
            "colorbar": {
             "outlinewidth": 0,
             "ticks": ""
            },
            "type": "contourcarpet"
           }
          ],
          "heatmap": [
           {
            "colorbar": {
             "outlinewidth": 0,
             "ticks": ""
            },
            "colorscale": [
             [
              0,
              "#0d0887"
             ],
             [
              0.1111111111111111,
              "#46039f"
             ],
             [
              0.2222222222222222,
              "#7201a8"
             ],
             [
              0.3333333333333333,
              "#9c179e"
             ],
             [
              0.4444444444444444,
              "#bd3786"
             ],
             [
              0.5555555555555556,
              "#d8576b"
             ],
             [
              0.6666666666666666,
              "#ed7953"
             ],
             [
              0.7777777777777778,
              "#fb9f3a"
             ],
             [
              0.8888888888888888,
              "#fdca26"
             ],
             [
              1,
              "#f0f921"
             ]
            ],
            "type": "heatmap"
           }
          ],
          "heatmapgl": [
           {
            "colorbar": {
             "outlinewidth": 0,
             "ticks": ""
            },
            "colorscale": [
             [
              0,
              "#0d0887"
             ],
             [
              0.1111111111111111,
              "#46039f"
             ],
             [
              0.2222222222222222,
              "#7201a8"
             ],
             [
              0.3333333333333333,
              "#9c179e"
             ],
             [
              0.4444444444444444,
              "#bd3786"
             ],
             [
              0.5555555555555556,
              "#d8576b"
             ],
             [
              0.6666666666666666,
              "#ed7953"
             ],
             [
              0.7777777777777778,
              "#fb9f3a"
             ],
             [
              0.8888888888888888,
              "#fdca26"
             ],
             [
              1,
              "#f0f921"
             ]
            ],
            "type": "heatmapgl"
           }
          ],
          "histogram": [
           {
            "marker": {
             "colorbar": {
              "outlinewidth": 0,
              "ticks": ""
             }
            },
            "type": "histogram"
           }
          ],
          "histogram2d": [
           {
            "colorbar": {
             "outlinewidth": 0,
             "ticks": ""
            },
            "colorscale": [
             [
              0,
              "#0d0887"
             ],
             [
              0.1111111111111111,
              "#46039f"
             ],
             [
              0.2222222222222222,
              "#7201a8"
             ],
             [
              0.3333333333333333,
              "#9c179e"
             ],
             [
              0.4444444444444444,
              "#bd3786"
             ],
             [
              0.5555555555555556,
              "#d8576b"
             ],
             [
              0.6666666666666666,
              "#ed7953"
             ],
             [
              0.7777777777777778,
              "#fb9f3a"
             ],
             [
              0.8888888888888888,
              "#fdca26"
             ],
             [
              1,
              "#f0f921"
             ]
            ],
            "type": "histogram2d"
           }
          ],
          "histogram2dcontour": [
           {
            "colorbar": {
             "outlinewidth": 0,
             "ticks": ""
            },
            "colorscale": [
             [
              0,
              "#0d0887"
             ],
             [
              0.1111111111111111,
              "#46039f"
             ],
             [
              0.2222222222222222,
              "#7201a8"
             ],
             [
              0.3333333333333333,
              "#9c179e"
             ],
             [
              0.4444444444444444,
              "#bd3786"
             ],
             [
              0.5555555555555556,
              "#d8576b"
             ],
             [
              0.6666666666666666,
              "#ed7953"
             ],
             [
              0.7777777777777778,
              "#fb9f3a"
             ],
             [
              0.8888888888888888,
              "#fdca26"
             ],
             [
              1,
              "#f0f921"
             ]
            ],
            "type": "histogram2dcontour"
           }
          ],
          "mesh3d": [
           {
            "colorbar": {
             "outlinewidth": 0,
             "ticks": ""
            },
            "type": "mesh3d"
           }
          ],
          "parcoords": [
           {
            "line": {
             "colorbar": {
              "outlinewidth": 0,
              "ticks": ""
             }
            },
            "type": "parcoords"
           }
          ],
          "scatter": [
           {
            "marker": {
             "colorbar": {
              "outlinewidth": 0,
              "ticks": ""
             }
            },
            "type": "scatter"
           }
          ],
          "scatter3d": [
           {
            "line": {
             "colorbar": {
              "outlinewidth": 0,
              "ticks": ""
             }
            },
            "marker": {
             "colorbar": {
              "outlinewidth": 0,
              "ticks": ""
             }
            },
            "type": "scatter3d"
           }
          ],
          "scattercarpet": [
           {
            "marker": {
             "colorbar": {
              "outlinewidth": 0,
              "ticks": ""
             }
            },
            "type": "scattercarpet"
           }
          ],
          "scattergeo": [
           {
            "marker": {
             "colorbar": {
              "outlinewidth": 0,
              "ticks": ""
             }
            },
            "type": "scattergeo"
           }
          ],
          "scattergl": [
           {
            "marker": {
             "colorbar": {
              "outlinewidth": 0,
              "ticks": ""
             }
            },
            "type": "scattergl"
           }
          ],
          "scattermapbox": [
           {
            "marker": {
             "colorbar": {
              "outlinewidth": 0,
              "ticks": ""
             }
            },
            "type": "scattermapbox"
           }
          ],
          "scatterpolar": [
           {
            "marker": {
             "colorbar": {
              "outlinewidth": 0,
              "ticks": ""
             }
            },
            "type": "scatterpolar"
           }
          ],
          "scatterpolargl": [
           {
            "marker": {
             "colorbar": {
              "outlinewidth": 0,
              "ticks": ""
             }
            },
            "type": "scatterpolargl"
           }
          ],
          "scatterternary": [
           {
            "marker": {
             "colorbar": {
              "outlinewidth": 0,
              "ticks": ""
             }
            },
            "type": "scatterternary"
           }
          ],
          "surface": [
           {
            "colorbar": {
             "outlinewidth": 0,
             "ticks": ""
            },
            "colorscale": [
             [
              0,
              "#0d0887"
             ],
             [
              0.1111111111111111,
              "#46039f"
             ],
             [
              0.2222222222222222,
              "#7201a8"
             ],
             [
              0.3333333333333333,
              "#9c179e"
             ],
             [
              0.4444444444444444,
              "#bd3786"
             ],
             [
              0.5555555555555556,
              "#d8576b"
             ],
             [
              0.6666666666666666,
              "#ed7953"
             ],
             [
              0.7777777777777778,
              "#fb9f3a"
             ],
             [
              0.8888888888888888,
              "#fdca26"
             ],
             [
              1,
              "#f0f921"
             ]
            ],
            "type": "surface"
           }
          ],
          "table": [
           {
            "cells": {
             "fill": {
              "color": "#EBF0F8"
             },
             "line": {
              "color": "white"
             }
            },
            "header": {
             "fill": {
              "color": "#C8D4E3"
             },
             "line": {
              "color": "white"
             }
            },
            "type": "table"
           }
          ]
         },
         "layout": {
          "annotationdefaults": {
           "arrowcolor": "#2a3f5f",
           "arrowhead": 0,
           "arrowwidth": 1
          },
          "colorscale": {
           "diverging": [
            [
             0,
             "#8e0152"
            ],
            [
             0.1,
             "#c51b7d"
            ],
            [
             0.2,
             "#de77ae"
            ],
            [
             0.3,
             "#f1b6da"
            ],
            [
             0.4,
             "#fde0ef"
            ],
            [
             0.5,
             "#f7f7f7"
            ],
            [
             0.6,
             "#e6f5d0"
            ],
            [
             0.7,
             "#b8e186"
            ],
            [
             0.8,
             "#7fbc41"
            ],
            [
             0.9,
             "#4d9221"
            ],
            [
             1,
             "#276419"
            ]
           ],
           "sequential": [
            [
             0,
             "#0d0887"
            ],
            [
             0.1111111111111111,
             "#46039f"
            ],
            [
             0.2222222222222222,
             "#7201a8"
            ],
            [
             0.3333333333333333,
             "#9c179e"
            ],
            [
             0.4444444444444444,
             "#bd3786"
            ],
            [
             0.5555555555555556,
             "#d8576b"
            ],
            [
             0.6666666666666666,
             "#ed7953"
            ],
            [
             0.7777777777777778,
             "#fb9f3a"
            ],
            [
             0.8888888888888888,
             "#fdca26"
            ],
            [
             1,
             "#f0f921"
            ]
           ],
           "sequentialminus": [
            [
             0,
             "#0d0887"
            ],
            [
             0.1111111111111111,
             "#46039f"
            ],
            [
             0.2222222222222222,
             "#7201a8"
            ],
            [
             0.3333333333333333,
             "#9c179e"
            ],
            [
             0.4444444444444444,
             "#bd3786"
            ],
            [
             0.5555555555555556,
             "#d8576b"
            ],
            [
             0.6666666666666666,
             "#ed7953"
            ],
            [
             0.7777777777777778,
             "#fb9f3a"
            ],
            [
             0.8888888888888888,
             "#fdca26"
            ],
            [
             1,
             "#f0f921"
            ]
           ]
          },
          "colorway": [
           "#636efa",
           "#EF553B",
           "#00cc96",
           "#ab63fa",
           "#FFA15A",
           "#19d3f3",
           "#FF6692",
           "#B6E880",
           "#FF97FF",
           "#FECB52"
          ],
          "font": {
           "color": "#2a3f5f"
          },
          "geo": {
           "bgcolor": "white",
           "lakecolor": "white",
           "landcolor": "#E5ECF6",
           "showlakes": true,
           "showland": true,
           "subunitcolor": "white"
          },
          "hoverlabel": {
           "align": "left"
          },
          "hovermode": "closest",
          "mapbox": {
           "style": "light"
          },
          "paper_bgcolor": "white",
          "plot_bgcolor": "#E5ECF6",
          "polar": {
           "angularaxis": {
            "gridcolor": "white",
            "linecolor": "white",
            "ticks": ""
           },
           "bgcolor": "#E5ECF6",
           "radialaxis": {
            "gridcolor": "white",
            "linecolor": "white",
            "ticks": ""
           }
          },
          "scene": {
           "xaxis": {
            "backgroundcolor": "#E5ECF6",
            "gridcolor": "white",
            "gridwidth": 2,
            "linecolor": "white",
            "showbackground": true,
            "ticks": "",
            "zerolinecolor": "white"
           },
           "yaxis": {
            "backgroundcolor": "#E5ECF6",
            "gridcolor": "white",
            "gridwidth": 2,
            "linecolor": "white",
            "showbackground": true,
            "ticks": "",
            "zerolinecolor": "white"
           },
           "zaxis": {
            "backgroundcolor": "#E5ECF6",
            "gridcolor": "white",
            "gridwidth": 2,
            "linecolor": "white",
            "showbackground": true,
            "ticks": "",
            "zerolinecolor": "white"
           }
          },
          "shapedefaults": {
           "line": {
            "color": "#2a3f5f"
           }
          },
          "ternary": {
           "aaxis": {
            "gridcolor": "white",
            "linecolor": "white",
            "ticks": ""
           },
           "baxis": {
            "gridcolor": "white",
            "linecolor": "white",
            "ticks": ""
           },
           "bgcolor": "#E5ECF6",
           "caxis": {
            "gridcolor": "white",
            "linecolor": "white",
            "ticks": ""
           }
          },
          "title": {
           "x": 0.05
          },
          "xaxis": {
           "automargin": true,
           "gridcolor": "white",
           "linecolor": "white",
           "ticks": "",
           "zerolinecolor": "white",
           "zerolinewidth": 2
          },
          "yaxis": {
           "automargin": true,
           "gridcolor": "white",
           "linecolor": "white",
           "ticks": "",
           "zerolinecolor": "white",
           "zerolinewidth": 2
          }
         }
        },
        "title": {
         "text": "2018 Beds by State"
        }
       }
      },
      "text/html": [
       "<div>\n",
       "        \n",
       "        \n",
       "            <div id=\"d928dae5-51f7-49fb-953a-3c70598b1ab9\" class=\"plotly-graph-div\" style=\"height:525px; width:100%;\"></div>\n",
       "            <script type=\"text/javascript\">\n",
       "                require([\"plotly\"], function(Plotly) {\n",
       "                    window.PLOTLYENV=window.PLOTLYENV || {};\n",
       "                    \n",
       "                if (document.getElementById(\"d928dae5-51f7-49fb-953a-3c70598b1ab9\")) {\n",
       "                    Plotly.newPlot(\n",
       "                        'd928dae5-51f7-49fb-953a-3c70598b1ab9',\n",
       "                        [{\"colorbar\": {\"title\": {\"text\": \"Count of Beds\"}}, \"colorscale\": [[0.0, \"rgb(247,251,255)\"], [0.125, \"rgb(222,235,247)\"], [0.25, \"rgb(198,219,239)\"], [0.375, \"rgb(158,202,225)\"], [0.5, \"rgb(107,174,214)\"], [0.625, \"rgb(66,146,198)\"], [0.75, \"rgb(33,113,181)\"], [0.875, \"rgb(8,81,156)\"], [1.0, \"rgb(8,48,107)\"]], \"locationmode\": \"USA-states\", \"locations\": [\"AK\", \"AL\", \"AR\", \"AZ\", \"CA\", \"CO\", \"CT\", \"DC\", \"DE\", \"FL\", \"GA\", \"GU\", \"HI\", \"IA\", \"ID\", \"IL\", \"IN\", \"KS\", \"KY\", \"LA\", \"MA\", \"MD\", \"ME\", \"MI\", \"MN\", \"MO\", \"MP\", \"MS\", \"MT\", \"NC\", \"ND\", \"NE\", \"NH\", \"NJ\", \"NM\", \"NV\", \"NY\", \"OH\", \"OK\", \"OR\", \"PA\", \"PR\", \"RI\", \"SC\", \"SD\", \"TN\", \"TX\", \"Total\", \"UT\", \"VA\", \"VI\", \"VT\", \"WA\", \"WI\", \"WV\", \"WY\"], \"type\": \"choropleth\", \"z\": [1940.0, 3188.0, 2362.0, 6683.0, 43548.0, 7532.0, 3417.0, 6721.0, 1122.0, 19554.0, 7363.0, 140.0, 3599.0, 3026.0, 1413.0, 10210.0, 5568.0, 2450.0, 2875.0, 2647.0, 17310.0, 5529.0, 2734.0, 8531.0, 6660.0, 5773.0, 30.0, 1079.0, 1376.0, 7963.0, 726.0, 2390.0, 1349.0, 7099.0, 1651.0, 3033.0, 88063.0, 9269.0, 3339.0, 6419.0, 12909.0, 955.0, 1003.0, 3001.0, 1090.0, 5674.0, 18006.0, 389622.0, 2968.0, 5303.0, 205.0, 937.0, 15016.0, 4721.0, 1593.0, 560.0]}],\n",
       "                        {\"geo\": {\"scope\": \"usa\"}, \"template\": {\"data\": {\"bar\": [{\"error_x\": {\"color\": \"#2a3f5f\"}, \"error_y\": {\"color\": \"#2a3f5f\"}, \"marker\": {\"line\": {\"color\": \"#E5ECF6\", \"width\": 0.5}}, \"type\": \"bar\"}], \"barpolar\": [{\"marker\": {\"line\": {\"color\": \"#E5ECF6\", \"width\": 0.5}}, \"type\": \"barpolar\"}], \"carpet\": [{\"aaxis\": {\"endlinecolor\": \"#2a3f5f\", \"gridcolor\": \"white\", \"linecolor\": \"white\", \"minorgridcolor\": \"white\", \"startlinecolor\": \"#2a3f5f\"}, \"baxis\": {\"endlinecolor\": \"#2a3f5f\", \"gridcolor\": \"white\", \"linecolor\": \"white\", \"minorgridcolor\": \"white\", \"startlinecolor\": \"#2a3f5f\"}, \"type\": \"carpet\"}], \"choropleth\": [{\"colorbar\": {\"outlinewidth\": 0, \"ticks\": \"\"}, \"type\": \"choropleth\"}], \"contour\": [{\"colorbar\": {\"outlinewidth\": 0, \"ticks\": \"\"}, \"colorscale\": [[0.0, \"#0d0887\"], [0.1111111111111111, \"#46039f\"], [0.2222222222222222, \"#7201a8\"], [0.3333333333333333, \"#9c179e\"], [0.4444444444444444, \"#bd3786\"], [0.5555555555555556, \"#d8576b\"], [0.6666666666666666, \"#ed7953\"], [0.7777777777777778, \"#fb9f3a\"], [0.8888888888888888, \"#fdca26\"], [1.0, \"#f0f921\"]], \"type\": \"contour\"}], \"contourcarpet\": [{\"colorbar\": {\"outlinewidth\": 0, \"ticks\": \"\"}, \"type\": \"contourcarpet\"}], \"heatmap\": [{\"colorbar\": {\"outlinewidth\": 0, \"ticks\": \"\"}, \"colorscale\": [[0.0, \"#0d0887\"], [0.1111111111111111, \"#46039f\"], [0.2222222222222222, \"#7201a8\"], [0.3333333333333333, \"#9c179e\"], [0.4444444444444444, \"#bd3786\"], [0.5555555555555556, \"#d8576b\"], [0.6666666666666666, \"#ed7953\"], [0.7777777777777778, \"#fb9f3a\"], [0.8888888888888888, \"#fdca26\"], [1.0, \"#f0f921\"]], \"type\": \"heatmap\"}], \"heatmapgl\": [{\"colorbar\": {\"outlinewidth\": 0, \"ticks\": \"\"}, \"colorscale\": [[0.0, \"#0d0887\"], [0.1111111111111111, \"#46039f\"], [0.2222222222222222, \"#7201a8\"], [0.3333333333333333, \"#9c179e\"], [0.4444444444444444, \"#bd3786\"], [0.5555555555555556, \"#d8576b\"], [0.6666666666666666, \"#ed7953\"], [0.7777777777777778, \"#fb9f3a\"], [0.8888888888888888, \"#fdca26\"], [1.0, \"#f0f921\"]], \"type\": \"heatmapgl\"}], \"histogram\": [{\"marker\": {\"colorbar\": {\"outlinewidth\": 0, \"ticks\": \"\"}}, \"type\": \"histogram\"}], \"histogram2d\": [{\"colorbar\": {\"outlinewidth\": 0, \"ticks\": \"\"}, \"colorscale\": [[0.0, \"#0d0887\"], [0.1111111111111111, \"#46039f\"], [0.2222222222222222, \"#7201a8\"], [0.3333333333333333, \"#9c179e\"], [0.4444444444444444, \"#bd3786\"], [0.5555555555555556, \"#d8576b\"], [0.6666666666666666, \"#ed7953\"], [0.7777777777777778, \"#fb9f3a\"], [0.8888888888888888, \"#fdca26\"], [1.0, \"#f0f921\"]], \"type\": \"histogram2d\"}], \"histogram2dcontour\": [{\"colorbar\": {\"outlinewidth\": 0, \"ticks\": \"\"}, \"colorscale\": [[0.0, \"#0d0887\"], [0.1111111111111111, \"#46039f\"], [0.2222222222222222, \"#7201a8\"], [0.3333333333333333, \"#9c179e\"], [0.4444444444444444, \"#bd3786\"], [0.5555555555555556, \"#d8576b\"], [0.6666666666666666, \"#ed7953\"], [0.7777777777777778, \"#fb9f3a\"], [0.8888888888888888, \"#fdca26\"], [1.0, \"#f0f921\"]], \"type\": \"histogram2dcontour\"}], \"mesh3d\": [{\"colorbar\": {\"outlinewidth\": 0, \"ticks\": \"\"}, \"type\": \"mesh3d\"}], \"parcoords\": [{\"line\": {\"colorbar\": {\"outlinewidth\": 0, \"ticks\": \"\"}}, \"type\": \"parcoords\"}], \"scatter\": [{\"marker\": {\"colorbar\": {\"outlinewidth\": 0, \"ticks\": \"\"}}, \"type\": \"scatter\"}], \"scatter3d\": [{\"line\": {\"colorbar\": {\"outlinewidth\": 0, \"ticks\": \"\"}}, \"marker\": {\"colorbar\": {\"outlinewidth\": 0, \"ticks\": \"\"}}, \"type\": \"scatter3d\"}], \"scattercarpet\": [{\"marker\": {\"colorbar\": {\"outlinewidth\": 0, \"ticks\": \"\"}}, \"type\": \"scattercarpet\"}], \"scattergeo\": [{\"marker\": {\"colorbar\": {\"outlinewidth\": 0, \"ticks\": \"\"}}, \"type\": \"scattergeo\"}], \"scattergl\": [{\"marker\": {\"colorbar\": {\"outlinewidth\": 0, \"ticks\": \"\"}}, \"type\": \"scattergl\"}], \"scattermapbox\": [{\"marker\": {\"colorbar\": {\"outlinewidth\": 0, \"ticks\": \"\"}}, \"type\": \"scattermapbox\"}], \"scatterpolar\": [{\"marker\": {\"colorbar\": {\"outlinewidth\": 0, \"ticks\": \"\"}}, \"type\": \"scatterpolar\"}], \"scatterpolargl\": [{\"marker\": {\"colorbar\": {\"outlinewidth\": 0, \"ticks\": \"\"}}, \"type\": \"scatterpolargl\"}], \"scatterternary\": [{\"marker\": {\"colorbar\": {\"outlinewidth\": 0, \"ticks\": \"\"}}, \"type\": \"scatterternary\"}], \"surface\": [{\"colorbar\": {\"outlinewidth\": 0, \"ticks\": \"\"}, \"colorscale\": [[0.0, \"#0d0887\"], [0.1111111111111111, \"#46039f\"], [0.2222222222222222, \"#7201a8\"], [0.3333333333333333, \"#9c179e\"], [0.4444444444444444, \"#bd3786\"], [0.5555555555555556, \"#d8576b\"], [0.6666666666666666, \"#ed7953\"], [0.7777777777777778, \"#fb9f3a\"], [0.8888888888888888, \"#fdca26\"], [1.0, \"#f0f921\"]], \"type\": \"surface\"}], \"table\": [{\"cells\": {\"fill\": {\"color\": \"#EBF0F8\"}, \"line\": {\"color\": \"white\"}}, \"header\": {\"fill\": {\"color\": \"#C8D4E3\"}, \"line\": {\"color\": \"white\"}}, \"type\": \"table\"}]}, \"layout\": {\"annotationdefaults\": {\"arrowcolor\": \"#2a3f5f\", \"arrowhead\": 0, \"arrowwidth\": 1}, \"colorscale\": {\"diverging\": [[0, \"#8e0152\"], [0.1, \"#c51b7d\"], [0.2, \"#de77ae\"], [0.3, \"#f1b6da\"], [0.4, \"#fde0ef\"], [0.5, \"#f7f7f7\"], [0.6, \"#e6f5d0\"], [0.7, \"#b8e186\"], [0.8, \"#7fbc41\"], [0.9, \"#4d9221\"], [1, \"#276419\"]], \"sequential\": [[0.0, \"#0d0887\"], [0.1111111111111111, \"#46039f\"], [0.2222222222222222, \"#7201a8\"], [0.3333333333333333, \"#9c179e\"], [0.4444444444444444, \"#bd3786\"], [0.5555555555555556, \"#d8576b\"], [0.6666666666666666, \"#ed7953\"], [0.7777777777777778, \"#fb9f3a\"], [0.8888888888888888, \"#fdca26\"], [1.0, \"#f0f921\"]], \"sequentialminus\": [[0.0, \"#0d0887\"], [0.1111111111111111, \"#46039f\"], [0.2222222222222222, \"#7201a8\"], [0.3333333333333333, \"#9c179e\"], [0.4444444444444444, \"#bd3786\"], [0.5555555555555556, \"#d8576b\"], [0.6666666666666666, \"#ed7953\"], [0.7777777777777778, \"#fb9f3a\"], [0.8888888888888888, \"#fdca26\"], [1.0, \"#f0f921\"]]}, \"colorway\": [\"#636efa\", \"#EF553B\", \"#00cc96\", \"#ab63fa\", \"#FFA15A\", \"#19d3f3\", \"#FF6692\", \"#B6E880\", \"#FF97FF\", \"#FECB52\"], \"font\": {\"color\": \"#2a3f5f\"}, \"geo\": {\"bgcolor\": \"white\", \"lakecolor\": \"white\", \"landcolor\": \"#E5ECF6\", \"showlakes\": true, \"showland\": true, \"subunitcolor\": \"white\"}, \"hoverlabel\": {\"align\": \"left\"}, \"hovermode\": \"closest\", \"mapbox\": {\"style\": \"light\"}, \"paper_bgcolor\": \"white\", \"plot_bgcolor\": \"#E5ECF6\", \"polar\": {\"angularaxis\": {\"gridcolor\": \"white\", \"linecolor\": \"white\", \"ticks\": \"\"}, \"bgcolor\": \"#E5ECF6\", \"radialaxis\": {\"gridcolor\": \"white\", \"linecolor\": \"white\", \"ticks\": \"\"}}, \"scene\": {\"xaxis\": {\"backgroundcolor\": \"#E5ECF6\", \"gridcolor\": \"white\", \"gridwidth\": 2, \"linecolor\": \"white\", \"showbackground\": true, \"ticks\": \"\", \"zerolinecolor\": \"white\"}, \"yaxis\": {\"backgroundcolor\": \"#E5ECF6\", \"gridcolor\": \"white\", \"gridwidth\": 2, \"linecolor\": \"white\", \"showbackground\": true, \"ticks\": \"\", \"zerolinecolor\": \"white\"}, \"zaxis\": {\"backgroundcolor\": \"#E5ECF6\", \"gridcolor\": \"white\", \"gridwidth\": 2, \"linecolor\": \"white\", \"showbackground\": true, \"ticks\": \"\", \"zerolinecolor\": \"white\"}}, \"shapedefaults\": {\"line\": {\"color\": \"#2a3f5f\"}}, \"ternary\": {\"aaxis\": {\"gridcolor\": \"white\", \"linecolor\": \"white\", \"ticks\": \"\"}, \"baxis\": {\"gridcolor\": \"white\", \"linecolor\": \"white\", \"ticks\": \"\"}, \"bgcolor\": \"#E5ECF6\", \"caxis\": {\"gridcolor\": \"white\", \"linecolor\": \"white\", \"ticks\": \"\"}}, \"title\": {\"x\": 0.05}, \"xaxis\": {\"automargin\": true, \"gridcolor\": \"white\", \"linecolor\": \"white\", \"ticks\": \"\", \"zerolinecolor\": \"white\", \"zerolinewidth\": 2}, \"yaxis\": {\"automargin\": true, \"gridcolor\": \"white\", \"linecolor\": \"white\", \"ticks\": \"\", \"zerolinecolor\": \"white\", \"zerolinewidth\": 2}}}, \"title\": {\"text\": \"2018 Beds by State\"}},\n",
       "                        {\"responsive\": true}\n",
       "                    ).then(function(){\n",
       "                            \n",
       "var gd = document.getElementById('d928dae5-51f7-49fb-953a-3c70598b1ab9');\n",
       "var x = new MutationObserver(function (mutations, observer) {{\n",
       "        var display = window.getComputedStyle(gd).display;\n",
       "        if (!display || display === 'none') {{\n",
       "            console.log([gd, 'removed!']);\n",
       "            Plotly.purge(gd);\n",
       "            observer.disconnect();\n",
       "        }}\n",
       "}});\n",
       "\n",
       "// Listen for the removal of the full notebook cells\n",
       "var notebookContainer = gd.closest('#notebook-container');\n",
       "if (notebookContainer) {{\n",
       "    x.observe(notebookContainer, {childList: true});\n",
       "}}\n",
       "\n",
       "// Listen for the clearing of the current output cell\n",
       "var outputEl = gd.closest('.output');\n",
       "if (outputEl) {{\n",
       "    x.observe(outputEl, {childList: true});\n",
       "}}\n",
       "\n",
       "                        })\n",
       "                };\n",
       "                });\n",
       "            </script>\n",
       "        </div>"
      ]
     },
     "metadata": {},
     "output_type": "display_data"
    }
   ],
   "source": [
    "fig = go.Figure(data=go.Choropleth(\n",
    "    locations=beds_summ_by_state_2018['State Code'], # Spatial coordinates\n",
    "    z = beds_summ_by_state_2018['Total Year-Round Beds (ES, TH, SH) sum'].astype(float), # Data to be color-coded\n",
    "    locationmode = 'USA-states', # set of locations match entries in `locations`\n",
    "    colorscale = 'Blues',\n",
    "    colorbar_title = \"Count of Beds\",\n",
    "))\n",
    "\n",
    "fig.update_layout(\n",
    "    title_text = '2018 Beds by State',\n",
    "    geo_scope='usa', # limite map scope to USA\n",
    ")\n",
    "\n",
    "fig.show()\n"
   ]
  },
  {
   "cell_type": "code",
   "execution_count": 54,
   "metadata": {},
   "outputs": [
    {
     "data": {
      "application/vnd.plotly.v1+json": {
       "config": {
        "plotlyServerURL": "https://plot.ly"
       },
       "data": [
        {
         "colorbar": {
          "title": {
           "text": "Count of Beds"
          }
         },
         "colorscale": [
          [
           0,
           "rgb(247,251,255)"
          ],
          [
           0.125,
           "rgb(222,235,247)"
          ],
          [
           0.25,
           "rgb(198,219,239)"
          ],
          [
           0.375,
           "rgb(158,202,225)"
          ],
          [
           0.5,
           "rgb(107,174,214)"
          ],
          [
           0.625,
           "rgb(66,146,198)"
          ],
          [
           0.75,
           "rgb(33,113,181)"
          ],
          [
           0.875,
           "rgb(8,81,156)"
          ],
          [
           1,
           "rgb(8,48,107)"
          ]
         ],
         "locationmode": "USA-states",
         "locations": [
          "AK",
          "AL",
          "AR",
          "AZ",
          "CA",
          "CO",
          "CT",
          "DC",
          "DE",
          "FL",
          "GA",
          "GU",
          "HI",
          "IA",
          "ID",
          "IL",
          "IN",
          "KS",
          "KY",
          "LA",
          "MA",
          "MD",
          "ME",
          "MI",
          "MN",
          "MO",
          "MP",
          "MS",
          "MT",
          "NC",
          "ND",
          "NE",
          "NH",
          "NJ",
          "NM",
          "NV",
          "NY",
          "OH",
          "OK",
          "OR",
          "PA",
          "PR",
          "RI",
          "SC",
          "SD",
          "TN",
          "TX",
          "Total",
          "UT",
          "VA",
          "VI",
          "VT",
          "WA",
          "WI",
          "WV",
          "WY"
         ],
         "type": "choropleth",
         "z": [
          3.7698412698412698,
          7.1636575422248105,
          12.90560471976401,
          32.255448555499235,
          66.49432185393778,
          30.625402965828496,
          14.059356136820925,
          2.6506373117033606,
          -3.6968576709796674,
          36.983564292620045,
          22.486577534477313,
          83.60655737704919,
          44.88514548238897,
          -10.076391415060023,
          29.7713717693837,
          4.0684017664192424,
          -5.895777862305059,
          -18.5292694726657,
          22.044468546637745,
          13.468453743053285,
          13.743272872234403,
          22.606382978723406,
          -8.664546899841017,
          -2.1554304873667824,
          8.049150904321415,
          4.293766578249337,
          97.12643678160919,
          20.192307692307693,
          2.0640569395017794,
          14.080707811825638,
          -33.94833948339483,
          1.2804626187525816,
          6.96551724137931,
          24.462651628005958,
          35.28028224225794,
          59.79586426299046,
          4.17206220007182,
          9.561908478875988,
          13.743218806509946,
          55.65764023210832,
          4.462699822380107,
          69.98742928975487,
          8.900999091734786,
          23.696923468090517,
          5.9534081104400345,
          28.022326525434476,
          28.85815883050178,
          -3.1988873435326846,
          11.246861924686193,
          57.818930041152264,
          27.420604182804027,
          32.67575322812052,
          3.7905033625433058,
          -28.15768302493966,
          12.363067292644757
         ]
        }
       ],
       "layout": {
        "geo": {
         "scope": "usa"
        },
        "template": {
         "data": {
          "bar": [
           {
            "error_x": {
             "color": "#2a3f5f"
            },
            "error_y": {
             "color": "#2a3f5f"
            },
            "marker": {
             "line": {
              "color": "#E5ECF6",
              "width": 0.5
             }
            },
            "type": "bar"
           }
          ],
          "barpolar": [
           {
            "marker": {
             "line": {
              "color": "#E5ECF6",
              "width": 0.5
             }
            },
            "type": "barpolar"
           }
          ],
          "carpet": [
           {
            "aaxis": {
             "endlinecolor": "#2a3f5f",
             "gridcolor": "white",
             "linecolor": "white",
             "minorgridcolor": "white",
             "startlinecolor": "#2a3f5f"
            },
            "baxis": {
             "endlinecolor": "#2a3f5f",
             "gridcolor": "white",
             "linecolor": "white",
             "minorgridcolor": "white",
             "startlinecolor": "#2a3f5f"
            },
            "type": "carpet"
           }
          ],
          "choropleth": [
           {
            "colorbar": {
             "outlinewidth": 0,
             "ticks": ""
            },
            "type": "choropleth"
           }
          ],
          "contour": [
           {
            "colorbar": {
             "outlinewidth": 0,
             "ticks": ""
            },
            "colorscale": [
             [
              0,
              "#0d0887"
             ],
             [
              0.1111111111111111,
              "#46039f"
             ],
             [
              0.2222222222222222,
              "#7201a8"
             ],
             [
              0.3333333333333333,
              "#9c179e"
             ],
             [
              0.4444444444444444,
              "#bd3786"
             ],
             [
              0.5555555555555556,
              "#d8576b"
             ],
             [
              0.6666666666666666,
              "#ed7953"
             ],
             [
              0.7777777777777778,
              "#fb9f3a"
             ],
             [
              0.8888888888888888,
              "#fdca26"
             ],
             [
              1,
              "#f0f921"
             ]
            ],
            "type": "contour"
           }
          ],
          "contourcarpet": [
           {
            "colorbar": {
             "outlinewidth": 0,
             "ticks": ""
            },
            "type": "contourcarpet"
           }
          ],
          "heatmap": [
           {
            "colorbar": {
             "outlinewidth": 0,
             "ticks": ""
            },
            "colorscale": [
             [
              0,
              "#0d0887"
             ],
             [
              0.1111111111111111,
              "#46039f"
             ],
             [
              0.2222222222222222,
              "#7201a8"
             ],
             [
              0.3333333333333333,
              "#9c179e"
             ],
             [
              0.4444444444444444,
              "#bd3786"
             ],
             [
              0.5555555555555556,
              "#d8576b"
             ],
             [
              0.6666666666666666,
              "#ed7953"
             ],
             [
              0.7777777777777778,
              "#fb9f3a"
             ],
             [
              0.8888888888888888,
              "#fdca26"
             ],
             [
              1,
              "#f0f921"
             ]
            ],
            "type": "heatmap"
           }
          ],
          "heatmapgl": [
           {
            "colorbar": {
             "outlinewidth": 0,
             "ticks": ""
            },
            "colorscale": [
             [
              0,
              "#0d0887"
             ],
             [
              0.1111111111111111,
              "#46039f"
             ],
             [
              0.2222222222222222,
              "#7201a8"
             ],
             [
              0.3333333333333333,
              "#9c179e"
             ],
             [
              0.4444444444444444,
              "#bd3786"
             ],
             [
              0.5555555555555556,
              "#d8576b"
             ],
             [
              0.6666666666666666,
              "#ed7953"
             ],
             [
              0.7777777777777778,
              "#fb9f3a"
             ],
             [
              0.8888888888888888,
              "#fdca26"
             ],
             [
              1,
              "#f0f921"
             ]
            ],
            "type": "heatmapgl"
           }
          ],
          "histogram": [
           {
            "marker": {
             "colorbar": {
              "outlinewidth": 0,
              "ticks": ""
             }
            },
            "type": "histogram"
           }
          ],
          "histogram2d": [
           {
            "colorbar": {
             "outlinewidth": 0,
             "ticks": ""
            },
            "colorscale": [
             [
              0,
              "#0d0887"
             ],
             [
              0.1111111111111111,
              "#46039f"
             ],
             [
              0.2222222222222222,
              "#7201a8"
             ],
             [
              0.3333333333333333,
              "#9c179e"
             ],
             [
              0.4444444444444444,
              "#bd3786"
             ],
             [
              0.5555555555555556,
              "#d8576b"
             ],
             [
              0.6666666666666666,
              "#ed7953"
             ],
             [
              0.7777777777777778,
              "#fb9f3a"
             ],
             [
              0.8888888888888888,
              "#fdca26"
             ],
             [
              1,
              "#f0f921"
             ]
            ],
            "type": "histogram2d"
           }
          ],
          "histogram2dcontour": [
           {
            "colorbar": {
             "outlinewidth": 0,
             "ticks": ""
            },
            "colorscale": [
             [
              0,
              "#0d0887"
             ],
             [
              0.1111111111111111,
              "#46039f"
             ],
             [
              0.2222222222222222,
              "#7201a8"
             ],
             [
              0.3333333333333333,
              "#9c179e"
             ],
             [
              0.4444444444444444,
              "#bd3786"
             ],
             [
              0.5555555555555556,
              "#d8576b"
             ],
             [
              0.6666666666666666,
              "#ed7953"
             ],
             [
              0.7777777777777778,
              "#fb9f3a"
             ],
             [
              0.8888888888888888,
              "#fdca26"
             ],
             [
              1,
              "#f0f921"
             ]
            ],
            "type": "histogram2dcontour"
           }
          ],
          "mesh3d": [
           {
            "colorbar": {
             "outlinewidth": 0,
             "ticks": ""
            },
            "type": "mesh3d"
           }
          ],
          "parcoords": [
           {
            "line": {
             "colorbar": {
              "outlinewidth": 0,
              "ticks": ""
             }
            },
            "type": "parcoords"
           }
          ],
          "scatter": [
           {
            "marker": {
             "colorbar": {
              "outlinewidth": 0,
              "ticks": ""
             }
            },
            "type": "scatter"
           }
          ],
          "scatter3d": [
           {
            "line": {
             "colorbar": {
              "outlinewidth": 0,
              "ticks": ""
             }
            },
            "marker": {
             "colorbar": {
              "outlinewidth": 0,
              "ticks": ""
             }
            },
            "type": "scatter3d"
           }
          ],
          "scattercarpet": [
           {
            "marker": {
             "colorbar": {
              "outlinewidth": 0,
              "ticks": ""
             }
            },
            "type": "scattercarpet"
           }
          ],
          "scattergeo": [
           {
            "marker": {
             "colorbar": {
              "outlinewidth": 0,
              "ticks": ""
             }
            },
            "type": "scattergeo"
           }
          ],
          "scattergl": [
           {
            "marker": {
             "colorbar": {
              "outlinewidth": 0,
              "ticks": ""
             }
            },
            "type": "scattergl"
           }
          ],
          "scattermapbox": [
           {
            "marker": {
             "colorbar": {
              "outlinewidth": 0,
              "ticks": ""
             }
            },
            "type": "scattermapbox"
           }
          ],
          "scatterpolar": [
           {
            "marker": {
             "colorbar": {
              "outlinewidth": 0,
              "ticks": ""
             }
            },
            "type": "scatterpolar"
           }
          ],
          "scatterpolargl": [
           {
            "marker": {
             "colorbar": {
              "outlinewidth": 0,
              "ticks": ""
             }
            },
            "type": "scatterpolargl"
           }
          ],
          "scatterternary": [
           {
            "marker": {
             "colorbar": {
              "outlinewidth": 0,
              "ticks": ""
             }
            },
            "type": "scatterternary"
           }
          ],
          "surface": [
           {
            "colorbar": {
             "outlinewidth": 0,
             "ticks": ""
            },
            "colorscale": [
             [
              0,
              "#0d0887"
             ],
             [
              0.1111111111111111,
              "#46039f"
             ],
             [
              0.2222222222222222,
              "#7201a8"
             ],
             [
              0.3333333333333333,
              "#9c179e"
             ],
             [
              0.4444444444444444,
              "#bd3786"
             ],
             [
              0.5555555555555556,
              "#d8576b"
             ],
             [
              0.6666666666666666,
              "#ed7953"
             ],
             [
              0.7777777777777778,
              "#fb9f3a"
             ],
             [
              0.8888888888888888,
              "#fdca26"
             ],
             [
              1,
              "#f0f921"
             ]
            ],
            "type": "surface"
           }
          ],
          "table": [
           {
            "cells": {
             "fill": {
              "color": "#EBF0F8"
             },
             "line": {
              "color": "white"
             }
            },
            "header": {
             "fill": {
              "color": "#C8D4E3"
             },
             "line": {
              "color": "white"
             }
            },
            "type": "table"
           }
          ]
         },
         "layout": {
          "annotationdefaults": {
           "arrowcolor": "#2a3f5f",
           "arrowhead": 0,
           "arrowwidth": 1
          },
          "colorscale": {
           "diverging": [
            [
             0,
             "#8e0152"
            ],
            [
             0.1,
             "#c51b7d"
            ],
            [
             0.2,
             "#de77ae"
            ],
            [
             0.3,
             "#f1b6da"
            ],
            [
             0.4,
             "#fde0ef"
            ],
            [
             0.5,
             "#f7f7f7"
            ],
            [
             0.6,
             "#e6f5d0"
            ],
            [
             0.7,
             "#b8e186"
            ],
            [
             0.8,
             "#7fbc41"
            ],
            [
             0.9,
             "#4d9221"
            ],
            [
             1,
             "#276419"
            ]
           ],
           "sequential": [
            [
             0,
             "#0d0887"
            ],
            [
             0.1111111111111111,
             "#46039f"
            ],
            [
             0.2222222222222222,
             "#7201a8"
            ],
            [
             0.3333333333333333,
             "#9c179e"
            ],
            [
             0.4444444444444444,
             "#bd3786"
            ],
            [
             0.5555555555555556,
             "#d8576b"
            ],
            [
             0.6666666666666666,
             "#ed7953"
            ],
            [
             0.7777777777777778,
             "#fb9f3a"
            ],
            [
             0.8888888888888888,
             "#fdca26"
            ],
            [
             1,
             "#f0f921"
            ]
           ],
           "sequentialminus": [
            [
             0,
             "#0d0887"
            ],
            [
             0.1111111111111111,
             "#46039f"
            ],
            [
             0.2222222222222222,
             "#7201a8"
            ],
            [
             0.3333333333333333,
             "#9c179e"
            ],
            [
             0.4444444444444444,
             "#bd3786"
            ],
            [
             0.5555555555555556,
             "#d8576b"
            ],
            [
             0.6666666666666666,
             "#ed7953"
            ],
            [
             0.7777777777777778,
             "#fb9f3a"
            ],
            [
             0.8888888888888888,
             "#fdca26"
            ],
            [
             1,
             "#f0f921"
            ]
           ]
          },
          "colorway": [
           "#636efa",
           "#EF553B",
           "#00cc96",
           "#ab63fa",
           "#FFA15A",
           "#19d3f3",
           "#FF6692",
           "#B6E880",
           "#FF97FF",
           "#FECB52"
          ],
          "font": {
           "color": "#2a3f5f"
          },
          "geo": {
           "bgcolor": "white",
           "lakecolor": "white",
           "landcolor": "#E5ECF6",
           "showlakes": true,
           "showland": true,
           "subunitcolor": "white"
          },
          "hoverlabel": {
           "align": "left"
          },
          "hovermode": "closest",
          "mapbox": {
           "style": "light"
          },
          "paper_bgcolor": "white",
          "plot_bgcolor": "#E5ECF6",
          "polar": {
           "angularaxis": {
            "gridcolor": "white",
            "linecolor": "white",
            "ticks": ""
           },
           "bgcolor": "#E5ECF6",
           "radialaxis": {
            "gridcolor": "white",
            "linecolor": "white",
            "ticks": ""
           }
          },
          "scene": {
           "xaxis": {
            "backgroundcolor": "#E5ECF6",
            "gridcolor": "white",
            "gridwidth": 2,
            "linecolor": "white",
            "showbackground": true,
            "ticks": "",
            "zerolinecolor": "white"
           },
           "yaxis": {
            "backgroundcolor": "#E5ECF6",
            "gridcolor": "white",
            "gridwidth": 2,
            "linecolor": "white",
            "showbackground": true,
            "ticks": "",
            "zerolinecolor": "white"
           },
           "zaxis": {
            "backgroundcolor": "#E5ECF6",
            "gridcolor": "white",
            "gridwidth": 2,
            "linecolor": "white",
            "showbackground": true,
            "ticks": "",
            "zerolinecolor": "white"
           }
          },
          "shapedefaults": {
           "line": {
            "color": "#2a3f5f"
           }
          },
          "ternary": {
           "aaxis": {
            "gridcolor": "white",
            "linecolor": "white",
            "ticks": ""
           },
           "baxis": {
            "gridcolor": "white",
            "linecolor": "white",
            "ticks": ""
           },
           "bgcolor": "#E5ECF6",
           "caxis": {
            "gridcolor": "white",
            "linecolor": "white",
            "ticks": ""
           }
          },
          "title": {
           "x": 0.05
          },
          "xaxis": {
           "automargin": true,
           "gridcolor": "white",
           "linecolor": "white",
           "ticks": "",
           "zerolinecolor": "white",
           "zerolinewidth": 2
          },
          "yaxis": {
           "automargin": true,
           "gridcolor": "white",
           "linecolor": "white",
           "ticks": "",
           "zerolinecolor": "white",
           "zerolinewidth": 2
          }
         }
        },
        "title": {
         "text": "2018 Beds Gap by State"
        }
       }
      },
      "text/html": [
       "<div>\n",
       "        \n",
       "        \n",
       "            <div id=\"ba680643-97cc-44b9-a420-8d0862d2f7c8\" class=\"plotly-graph-div\" style=\"height:525px; width:100%;\"></div>\n",
       "            <script type=\"text/javascript\">\n",
       "                require([\"plotly\"], function(Plotly) {\n",
       "                    window.PLOTLYENV=window.PLOTLYENV || {};\n",
       "                    \n",
       "                if (document.getElementById(\"ba680643-97cc-44b9-a420-8d0862d2f7c8\")) {\n",
       "                    Plotly.newPlot(\n",
       "                        'ba680643-97cc-44b9-a420-8d0862d2f7c8',\n",
       "                        [{\"colorbar\": {\"title\": {\"text\": \"Count of Beds\"}}, \"colorscale\": [[0.0, \"rgb(247,251,255)\"], [0.125, \"rgb(222,235,247)\"], [0.25, \"rgb(198,219,239)\"], [0.375, \"rgb(158,202,225)\"], [0.5, \"rgb(107,174,214)\"], [0.625, \"rgb(66,146,198)\"], [0.75, \"rgb(33,113,181)\"], [0.875, \"rgb(8,81,156)\"], [1.0, \"rgb(8,48,107)\"]], \"locationmode\": \"USA-states\", \"locations\": [\"AK\", \"AL\", \"AR\", \"AZ\", \"CA\", \"CO\", \"CT\", \"DC\", \"DE\", \"FL\", \"GA\", \"GU\", \"HI\", \"IA\", \"ID\", \"IL\", \"IN\", \"KS\", \"KY\", \"LA\", \"MA\", \"MD\", \"ME\", \"MI\", \"MN\", \"MO\", \"MP\", \"MS\", \"MT\", \"NC\", \"ND\", \"NE\", \"NH\", \"NJ\", \"NM\", \"NV\", \"NY\", \"OH\", \"OK\", \"OR\", \"PA\", \"PR\", \"RI\", \"SC\", \"SD\", \"TN\", \"TX\", \"Total\", \"UT\", \"VA\", \"VI\", \"VT\", \"WA\", \"WI\", \"WV\", \"WY\"], \"type\": \"choropleth\", \"z\": [3.7698412698412698, 7.1636575422248105, 12.90560471976401, 32.255448555499235, 66.49432185393778, 30.625402965828496, 14.059356136820925, 2.6506373117033606, -3.6968576709796674, 36.983564292620045, 22.486577534477313, 83.60655737704919, 44.88514548238897, -10.076391415060023, 29.7713717693837, 4.0684017664192424, -5.895777862305059, -18.5292694726657, 22.044468546637745, 13.468453743053285, 13.743272872234403, 22.606382978723406, -8.664546899841017, -2.1554304873667824, 8.049150904321415, 4.293766578249337, 97.12643678160919, 20.192307692307693, 2.0640569395017794, 14.080707811825638, -33.94833948339483, 1.2804626187525816, 6.96551724137931, 24.462651628005958, 35.28028224225794, 59.79586426299046, 4.17206220007182, 9.561908478875988, 13.743218806509946, 55.65764023210832, 4.462699822380107, 69.98742928975487, 8.900999091734786, 23.696923468090517, 5.9534081104400345, 28.022326525434476, 28.85815883050178, -3.1988873435326846, 11.246861924686193, 57.818930041152264, 27.420604182804027, 32.67575322812052, 3.7905033625433058, -28.15768302493966, 12.363067292644757]}],\n",
       "                        {\"geo\": {\"scope\": \"usa\"}, \"template\": {\"data\": {\"bar\": [{\"error_x\": {\"color\": \"#2a3f5f\"}, \"error_y\": {\"color\": \"#2a3f5f\"}, \"marker\": {\"line\": {\"color\": \"#E5ECF6\", \"width\": 0.5}}, \"type\": \"bar\"}], \"barpolar\": [{\"marker\": {\"line\": {\"color\": \"#E5ECF6\", \"width\": 0.5}}, \"type\": \"barpolar\"}], \"carpet\": [{\"aaxis\": {\"endlinecolor\": \"#2a3f5f\", \"gridcolor\": \"white\", \"linecolor\": \"white\", \"minorgridcolor\": \"white\", \"startlinecolor\": \"#2a3f5f\"}, \"baxis\": {\"endlinecolor\": \"#2a3f5f\", \"gridcolor\": \"white\", \"linecolor\": \"white\", \"minorgridcolor\": \"white\", \"startlinecolor\": \"#2a3f5f\"}, \"type\": \"carpet\"}], \"choropleth\": [{\"colorbar\": {\"outlinewidth\": 0, \"ticks\": \"\"}, \"type\": \"choropleth\"}], \"contour\": [{\"colorbar\": {\"outlinewidth\": 0, \"ticks\": \"\"}, \"colorscale\": [[0.0, \"#0d0887\"], [0.1111111111111111, \"#46039f\"], [0.2222222222222222, \"#7201a8\"], [0.3333333333333333, \"#9c179e\"], [0.4444444444444444, \"#bd3786\"], [0.5555555555555556, \"#d8576b\"], [0.6666666666666666, \"#ed7953\"], [0.7777777777777778, \"#fb9f3a\"], [0.8888888888888888, \"#fdca26\"], [1.0, \"#f0f921\"]], \"type\": \"contour\"}], \"contourcarpet\": [{\"colorbar\": {\"outlinewidth\": 0, \"ticks\": \"\"}, \"type\": \"contourcarpet\"}], \"heatmap\": [{\"colorbar\": {\"outlinewidth\": 0, \"ticks\": \"\"}, \"colorscale\": [[0.0, \"#0d0887\"], [0.1111111111111111, \"#46039f\"], [0.2222222222222222, \"#7201a8\"], [0.3333333333333333, \"#9c179e\"], [0.4444444444444444, \"#bd3786\"], [0.5555555555555556, \"#d8576b\"], [0.6666666666666666, \"#ed7953\"], [0.7777777777777778, \"#fb9f3a\"], [0.8888888888888888, \"#fdca26\"], [1.0, \"#f0f921\"]], \"type\": \"heatmap\"}], \"heatmapgl\": [{\"colorbar\": {\"outlinewidth\": 0, \"ticks\": \"\"}, \"colorscale\": [[0.0, \"#0d0887\"], [0.1111111111111111, \"#46039f\"], [0.2222222222222222, \"#7201a8\"], [0.3333333333333333, \"#9c179e\"], [0.4444444444444444, \"#bd3786\"], [0.5555555555555556, \"#d8576b\"], [0.6666666666666666, \"#ed7953\"], [0.7777777777777778, \"#fb9f3a\"], [0.8888888888888888, \"#fdca26\"], [1.0, \"#f0f921\"]], \"type\": \"heatmapgl\"}], \"histogram\": [{\"marker\": {\"colorbar\": {\"outlinewidth\": 0, \"ticks\": \"\"}}, \"type\": \"histogram\"}], \"histogram2d\": [{\"colorbar\": {\"outlinewidth\": 0, \"ticks\": \"\"}, \"colorscale\": [[0.0, \"#0d0887\"], [0.1111111111111111, \"#46039f\"], [0.2222222222222222, \"#7201a8\"], [0.3333333333333333, \"#9c179e\"], [0.4444444444444444, \"#bd3786\"], [0.5555555555555556, \"#d8576b\"], [0.6666666666666666, \"#ed7953\"], [0.7777777777777778, \"#fb9f3a\"], [0.8888888888888888, \"#fdca26\"], [1.0, \"#f0f921\"]], \"type\": \"histogram2d\"}], \"histogram2dcontour\": [{\"colorbar\": {\"outlinewidth\": 0, \"ticks\": \"\"}, \"colorscale\": [[0.0, \"#0d0887\"], [0.1111111111111111, \"#46039f\"], [0.2222222222222222, \"#7201a8\"], [0.3333333333333333, \"#9c179e\"], [0.4444444444444444, \"#bd3786\"], [0.5555555555555556, \"#d8576b\"], [0.6666666666666666, \"#ed7953\"], [0.7777777777777778, \"#fb9f3a\"], [0.8888888888888888, \"#fdca26\"], [1.0, \"#f0f921\"]], \"type\": \"histogram2dcontour\"}], \"mesh3d\": [{\"colorbar\": {\"outlinewidth\": 0, \"ticks\": \"\"}, \"type\": \"mesh3d\"}], \"parcoords\": [{\"line\": {\"colorbar\": {\"outlinewidth\": 0, \"ticks\": \"\"}}, \"type\": \"parcoords\"}], \"scatter\": [{\"marker\": {\"colorbar\": {\"outlinewidth\": 0, \"ticks\": \"\"}}, \"type\": \"scatter\"}], \"scatter3d\": [{\"line\": {\"colorbar\": {\"outlinewidth\": 0, \"ticks\": \"\"}}, \"marker\": {\"colorbar\": {\"outlinewidth\": 0, \"ticks\": \"\"}}, \"type\": \"scatter3d\"}], \"scattercarpet\": [{\"marker\": {\"colorbar\": {\"outlinewidth\": 0, \"ticks\": \"\"}}, \"type\": \"scattercarpet\"}], \"scattergeo\": [{\"marker\": {\"colorbar\": {\"outlinewidth\": 0, \"ticks\": \"\"}}, \"type\": \"scattergeo\"}], \"scattergl\": [{\"marker\": {\"colorbar\": {\"outlinewidth\": 0, \"ticks\": \"\"}}, \"type\": \"scattergl\"}], \"scattermapbox\": [{\"marker\": {\"colorbar\": {\"outlinewidth\": 0, \"ticks\": \"\"}}, \"type\": \"scattermapbox\"}], \"scatterpolar\": [{\"marker\": {\"colorbar\": {\"outlinewidth\": 0, \"ticks\": \"\"}}, \"type\": \"scatterpolar\"}], \"scatterpolargl\": [{\"marker\": {\"colorbar\": {\"outlinewidth\": 0, \"ticks\": \"\"}}, \"type\": \"scatterpolargl\"}], \"scatterternary\": [{\"marker\": {\"colorbar\": {\"outlinewidth\": 0, \"ticks\": \"\"}}, \"type\": \"scatterternary\"}], \"surface\": [{\"colorbar\": {\"outlinewidth\": 0, \"ticks\": \"\"}, \"colorscale\": [[0.0, \"#0d0887\"], [0.1111111111111111, \"#46039f\"], [0.2222222222222222, \"#7201a8\"], [0.3333333333333333, \"#9c179e\"], [0.4444444444444444, \"#bd3786\"], [0.5555555555555556, \"#d8576b\"], [0.6666666666666666, \"#ed7953\"], [0.7777777777777778, \"#fb9f3a\"], [0.8888888888888888, \"#fdca26\"], [1.0, \"#f0f921\"]], \"type\": \"surface\"}], \"table\": [{\"cells\": {\"fill\": {\"color\": \"#EBF0F8\"}, \"line\": {\"color\": \"white\"}}, \"header\": {\"fill\": {\"color\": \"#C8D4E3\"}, \"line\": {\"color\": \"white\"}}, \"type\": \"table\"}]}, \"layout\": {\"annotationdefaults\": {\"arrowcolor\": \"#2a3f5f\", \"arrowhead\": 0, \"arrowwidth\": 1}, \"colorscale\": {\"diverging\": [[0, \"#8e0152\"], [0.1, \"#c51b7d\"], [0.2, \"#de77ae\"], [0.3, \"#f1b6da\"], [0.4, \"#fde0ef\"], [0.5, \"#f7f7f7\"], [0.6, \"#e6f5d0\"], [0.7, \"#b8e186\"], [0.8, \"#7fbc41\"], [0.9, \"#4d9221\"], [1, \"#276419\"]], \"sequential\": [[0.0, \"#0d0887\"], [0.1111111111111111, \"#46039f\"], [0.2222222222222222, \"#7201a8\"], [0.3333333333333333, \"#9c179e\"], [0.4444444444444444, \"#bd3786\"], [0.5555555555555556, \"#d8576b\"], [0.6666666666666666, \"#ed7953\"], [0.7777777777777778, \"#fb9f3a\"], [0.8888888888888888, \"#fdca26\"], [1.0, \"#f0f921\"]], \"sequentialminus\": [[0.0, \"#0d0887\"], [0.1111111111111111, \"#46039f\"], [0.2222222222222222, \"#7201a8\"], [0.3333333333333333, \"#9c179e\"], [0.4444444444444444, \"#bd3786\"], [0.5555555555555556, \"#d8576b\"], [0.6666666666666666, \"#ed7953\"], [0.7777777777777778, \"#fb9f3a\"], [0.8888888888888888, \"#fdca26\"], [1.0, \"#f0f921\"]]}, \"colorway\": [\"#636efa\", \"#EF553B\", \"#00cc96\", \"#ab63fa\", \"#FFA15A\", \"#19d3f3\", \"#FF6692\", \"#B6E880\", \"#FF97FF\", \"#FECB52\"], \"font\": {\"color\": \"#2a3f5f\"}, \"geo\": {\"bgcolor\": \"white\", \"lakecolor\": \"white\", \"landcolor\": \"#E5ECF6\", \"showlakes\": true, \"showland\": true, \"subunitcolor\": \"white\"}, \"hoverlabel\": {\"align\": \"left\"}, \"hovermode\": \"closest\", \"mapbox\": {\"style\": \"light\"}, \"paper_bgcolor\": \"white\", \"plot_bgcolor\": \"#E5ECF6\", \"polar\": {\"angularaxis\": {\"gridcolor\": \"white\", \"linecolor\": \"white\", \"ticks\": \"\"}, \"bgcolor\": \"#E5ECF6\", \"radialaxis\": {\"gridcolor\": \"white\", \"linecolor\": \"white\", \"ticks\": \"\"}}, \"scene\": {\"xaxis\": {\"backgroundcolor\": \"#E5ECF6\", \"gridcolor\": \"white\", \"gridwidth\": 2, \"linecolor\": \"white\", \"showbackground\": true, \"ticks\": \"\", \"zerolinecolor\": \"white\"}, \"yaxis\": {\"backgroundcolor\": \"#E5ECF6\", \"gridcolor\": \"white\", \"gridwidth\": 2, \"linecolor\": \"white\", \"showbackground\": true, \"ticks\": \"\", \"zerolinecolor\": \"white\"}, \"zaxis\": {\"backgroundcolor\": \"#E5ECF6\", \"gridcolor\": \"white\", \"gridwidth\": 2, \"linecolor\": \"white\", \"showbackground\": true, \"ticks\": \"\", \"zerolinecolor\": \"white\"}}, \"shapedefaults\": {\"line\": {\"color\": \"#2a3f5f\"}}, \"ternary\": {\"aaxis\": {\"gridcolor\": \"white\", \"linecolor\": \"white\", \"ticks\": \"\"}, \"baxis\": {\"gridcolor\": \"white\", \"linecolor\": \"white\", \"ticks\": \"\"}, \"bgcolor\": \"#E5ECF6\", \"caxis\": {\"gridcolor\": \"white\", \"linecolor\": \"white\", \"ticks\": \"\"}}, \"title\": {\"x\": 0.05}, \"xaxis\": {\"automargin\": true, \"gridcolor\": \"white\", \"linecolor\": \"white\", \"ticks\": \"\", \"zerolinecolor\": \"white\", \"zerolinewidth\": 2}, \"yaxis\": {\"automargin\": true, \"gridcolor\": \"white\", \"linecolor\": \"white\", \"ticks\": \"\", \"zerolinecolor\": \"white\", \"zerolinewidth\": 2}}}, \"title\": {\"text\": \"2018 Beds Gap by State\"}},\n",
       "                        {\"responsive\": true}\n",
       "                    ).then(function(){\n",
       "                            \n",
       "var gd = document.getElementById('ba680643-97cc-44b9-a420-8d0862d2f7c8');\n",
       "var x = new MutationObserver(function (mutations, observer) {{\n",
       "        var display = window.getComputedStyle(gd).display;\n",
       "        if (!display || display === 'none') {{\n",
       "            console.log([gd, 'removed!']);\n",
       "            Plotly.purge(gd);\n",
       "            observer.disconnect();\n",
       "        }}\n",
       "}});\n",
       "\n",
       "// Listen for the removal of the full notebook cells\n",
       "var notebookContainer = gd.closest('#notebook-container');\n",
       "if (notebookContainer) {{\n",
       "    x.observe(notebookContainer, {childList: true});\n",
       "}}\n",
       "\n",
       "// Listen for the clearing of the current output cell\n",
       "var outputEl = gd.closest('.output');\n",
       "if (outputEl) {{\n",
       "    x.observe(outputEl, {childList: true});\n",
       "}}\n",
       "\n",
       "                        })\n",
       "                };\n",
       "                });\n",
       "            </script>\n",
       "        </div>"
      ]
     },
     "metadata": {},
     "output_type": "display_data"
    }
   ],
   "source": [
    "beds_pits =beds_summ_by_state_2018.join(\"State Code\",pit_summ_by_state_2018)\n",
    "beds_pits = beds_pits.select(\"State Code\", \"Total Year-Round Beds (ES, TH, SH) sum\", \"Overall Homeless sum\")\n",
    "\n",
    "gap = beds_pits[\"Overall Homeless sum\"] - beds_pits[\"Total Year-Round Beds (ES, TH, SH) sum\"] \n",
    "gap_percent = gap/beds_pits[\"Overall Homeless sum\"] * 100\n",
    "beds_pits=beds_pits.with_column(\"Gap\", gap)\n",
    "\n",
    "beds_pits=beds_pits.with_column(\"Gap Percent\", gap_percent)\n",
    "beds_pits\n",
    "\n",
    "fig = go.Figure(data=go.Choropleth(\n",
    "    locations=beds_summ_by_state_2018['State Code'], # Spatial coordinates\n",
    "    z = beds_pits['Gap Percent'].astype(float), # Data to be color-coded\n",
    "    locationmode = 'USA-states', # set of locations match entries in `locations`\n",
    "    colorscale = 'Blues',\n",
    "    colorbar_title = \"Count of Beds\",\n",
    "))\n",
    "\n",
    "fig.update_layout(\n",
    "    title_text = '2018 Beds Gap by State',\n",
    "    geo_scope='usa', # limite map scope to USA\n",
    ")\n",
    "\n",
    "fig.show()\n"
   ]
  },
  {
   "cell_type": "code",
   "execution_count": 55,
   "metadata": {},
   "outputs": [
    {
     "data": {
      "text/html": [
       "<table border=\"1\" class=\"dataframe\">\n",
       "    <thead>\n",
       "        <tr>\n",
       "            <th>State Code</th> <th>Total Year-Round Beds (ES, TH, SH) sum</th> <th>Overall Homeless sum</th> <th>Gap</th> <th>Gap Percent</th>\n",
       "        </tr>\n",
       "    </thead>\n",
       "    <tbody>\n",
       "        <tr>\n",
       "            <td>AK        </td> <td>1940                                  </td> <td>2016                </td> <td>76   </td> <td>3.76984    </td>\n",
       "        </tr>\n",
       "        <tr>\n",
       "            <td>AL        </td> <td>3188                                  </td> <td>3434                </td> <td>246  </td> <td>7.16366    </td>\n",
       "        </tr>\n",
       "        <tr>\n",
       "            <td>AR        </td> <td>2362                                  </td> <td>2712                </td> <td>350  </td> <td>12.9056    </td>\n",
       "        </tr>\n",
       "        <tr>\n",
       "            <td>AZ        </td> <td>6683                                  </td> <td>9865                </td> <td>3182 </td> <td>32.2554    </td>\n",
       "        </tr>\n",
       "        <tr>\n",
       "            <td>CA        </td> <td>43548                                 </td> <td>129972              </td> <td>86424</td> <td>66.4943    </td>\n",
       "        </tr>\n",
       "        <tr>\n",
       "            <td>CO        </td> <td>7532                                  </td> <td>10857               </td> <td>3325 </td> <td>30.6254    </td>\n",
       "        </tr>\n",
       "        <tr>\n",
       "            <td>CT        </td> <td>3417                                  </td> <td>3976                </td> <td>559  </td> <td>14.0594    </td>\n",
       "        </tr>\n",
       "        <tr>\n",
       "            <td>DC        </td> <td>6721                                  </td> <td>6904                </td> <td>183  </td> <td>2.65064    </td>\n",
       "        </tr>\n",
       "        <tr>\n",
       "            <td>DE        </td> <td>1122                                  </td> <td>1082                </td> <td>-40  </td> <td>-3.69686   </td>\n",
       "        </tr>\n",
       "        <tr>\n",
       "            <td>FL        </td> <td>19554                                 </td> <td>31030               </td> <td>11476</td> <td>36.9836    </td>\n",
       "        </tr>\n",
       "    </tbody>\n",
       "</table>\n",
       "<p>... (45 rows omitted)</p>"
      ],
      "text/plain": [
       "State Code | Total Year-Round Beds (ES, TH, SH) sum | Overall Homeless sum | Gap   | Gap Percent\n",
       "AK         | 1940                                   | 2016                 | 76    | 3.76984\n",
       "AL         | 3188                                   | 3434                 | 246   | 7.16366\n",
       "AR         | 2362                                   | 2712                 | 350   | 12.9056\n",
       "AZ         | 6683                                   | 9865                 | 3182  | 32.2554\n",
       "CA         | 43548                                  | 129972               | 86424 | 66.4943\n",
       "CO         | 7532                                   | 10857                | 3325  | 30.6254\n",
       "CT         | 3417                                   | 3976                 | 559   | 14.0594\n",
       "DC         | 6721                                   | 6904                 | 183   | 2.65064\n",
       "DE         | 1122                                   | 1082                 | -40   | -3.69686\n",
       "FL         | 19554                                  | 31030                | 11476 | 36.9836\n",
       "... (45 rows omitted)"
      ]
     },
     "execution_count": 55,
     "metadata": {},
     "output_type": "execute_result"
    }
   ],
   "source": [
    "beds_pits"
   ]
  },
  {
   "cell_type": "code",
   "execution_count": 56,
   "metadata": {},
   "outputs": [
    {
     "data": {
      "image/png": "[encoded data removed]",
      "text/plain": [
       "<Figure size 360x360 with 1 Axes>"
      ]
     },
     "metadata": {},
     "output_type": "display_data"
    }
   ],
   "source": [
    "beds_pits.scatter(\"Overall Homeless sum\", \"Total Year-Round Beds (ES, TH, SH) sum\")"
   ]
  },
  {
   "cell_type": "code",
   "execution_count": 73,
   "metadata": {},
   "outputs": [
    {
     "data": {
      "text/html": [
       "<table border=\"1\" class=\"dataframe\">\n",
       "    <thead>\n",
       "        <tr>\n",
       "            <th>Year</th> <th>CoC Number</th> <th>Total Year-Round Beds (ES, TH, SH)</th> <th>Total Year-Round Beds (ES)</th> <th>Total Year-Round Beds (SH)</th> <th>Total Year-Round Beds (TH)</th>\n",
       "        </tr>\n",
       "    </thead>\n",
       "    <tbody>\n",
       "        <tr>\n",
       "            <td>2018</td> <td>Total     </td> <td>389622                            </td> <td>286203                    </td> <td>2390                      </td> <td>101029                    </td>\n",
       "        </tr>\n",
       "        <tr>\n",
       "            <td>2017</td> <td>Total     </td> <td>399439                            </td> <td>277537                    </td> <td>1653                      </td> <td>120249                    </td>\n",
       "        </tr>\n",
       "        <tr>\n",
       "            <td>2016</td> <td>Total     </td> <td>411285                            </td> <td>264629                    </td> <td>1907                      </td> <td>144749                    </td>\n",
       "        </tr>\n",
       "        <tr>\n",
       "            <td>2015</td> <td>Total     </td> <td>426267                            </td> <td>264440                    </td> <td>2043                      </td> <td>159784                    </td>\n",
       "        </tr>\n",
       "        <tr>\n",
       "            <td>2014</td> <td>Total     </td> <td>424880                            </td> <td>249497                    </td> <td>2159                      </td> <td>173224                    </td>\n",
       "        </tr>\n",
       "        <tr>\n",
       "            <td>2013</td> <td>Total     </td> <td>426231                            </td> <td>238708                    </td> <td>2191                      </td> <td>185332                    </td>\n",
       "        </tr>\n",
       "    </tbody>\n",
       "</table>"
      ],
      "text/plain": [
       "Year | CoC Number | Total Year-Round Beds (ES, TH, SH) | Total Year-Round Beds (ES) | Total Year-Round Beds (SH) | Total Year-Round Beds (TH)\n",
       "2018 | Total      | 389622                             | 286203                     | 2390                       | 101029\n",
       "2017 | Total      | 399439                             | 277537                     | 1653                       | 120249\n",
       "2016 | Total      | 411285                             | 264629                     | 1907                       | 144749\n",
       "2015 | Total      | 426267                             | 264440                     | 2043                       | 159784\n",
       "2014 | Total      | 424880                             | 249497                     | 2159                       | 173224\n",
       "2013 | Total      | 426231                             | 238708                     | 2191                       | 185332"
      ]
     },
     "execution_count": 73,
     "metadata": {},
     "output_type": "execute_result"
    },
    {
     "data": {
      "image/png": "[encoded data removed]",
      "text/plain": [
       "<Figure size 432x288 with 1 Axes>"
      ]
     },
     "metadata": {},
     "output_type": "display_data"
    },
    {
     "data": {
      "image/png": "[encoded data removed]",
      "text/plain": [
       "<Figure size 432x288 with 1 Axes>"
      ]
     },
     "metadata": {},
     "output_type": "display_data"
    }
   ],
   "source": [
    "b_2018 = beds_table.where(\"CoC Number\", \"Total\").where(\"Total Year-Round Beds (ES, TH, SH)\", are.above(0))\n",
    "\n",
    "b_2018.barh(\"Year\", \"Total Year-Round Beds (ES, TH, SH)\")\n",
    "b_2018.select(\"Year\",\"Total Year-Round Beds (ES)\", \"Total Year-Round Beds (SH)\", \"Total Year-Round Beds (TH)\").plot(\"Year\")\n",
    "\n",
    "b_2018"
   ]
  },
  {
   "cell_type": "code",
   "execution_count": null,
   "metadata": {},
   "outputs": [],
   "source": []
  }
 ],
 "metadata": {
  "kernelspec": {
   "display_name": "Python 3",
   "language": "python",
   "name": "python3"
  },
  "language_info": {
   "codemirror_mode": {
    "name": "ipython",
    "version": 3
   },
   "file_extension": ".py",
   "mimetype": "text/x-python",
   "name": "python",
   "nbconvert_exporter": "python",
   "pygments_lexer": "ipython3",
   "version": "3.7.4"
  }
 },
 "nbformat": 4,
 "nbformat_minor": 2
}
