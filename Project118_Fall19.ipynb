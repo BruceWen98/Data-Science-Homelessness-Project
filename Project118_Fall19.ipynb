{
 "cells": [
  {
   "cell_type": "code",
   "execution_count": null,
   "metadata": {},
   "outputs": [],
   "source": [
    "import numpy as np\n",
    "from datascience import *\n",
    "\n",
    "%matplotlib inline\n",
    "import matplotlib.pyplot as plots\n",
    "plots.style.use('fivethirtyeight')\n",
    "import warnings\n",
    "warnings.simplefilter('ignore', FutureWarning)"
   ]
  },
  {
   "cell_type": "markdown",
   "metadata": {},
   "source": [
    "## Project for CMSC/STAT 118 - Fall Quarter 2019 (due November 12)##\n",
    "\n",
    "This is not a group project. You may discuss the project with other students but you should code and write the report independently. You should acknowledge any help in writing. The score will be based on:\n",
    "-  clarity an soundness of the arguments and conclusions; \n",
    "-  use of data to back up arguments and analysis quality;  \n",
    "-  insightfulness of the results;\n",
    "-  quality of the data vizualization, summaries used, and overall presentation.\n",
    "\n",
    "The project is inspired by the current Fall Data Challenge from the American Statistical Association. You can find information about it here:\n",
    "https://thisisstatistics.org/falldatachallenge/\n",
    "\n",
    "The goal of the ASA Data challenge is to use \"statistical and data visualization skills [...] to help find ways to reduce and resolve the homelessness crisis, using HUD’s 2018 Point-in-Time Estimates of Homelessness in the U.S. dataset\":\n",
    "\n",
    "https://www.hudexchange.info/resource/5783/2018-ahar-part-1-pit-estimates-of-homelessness-in-the-us/\n",
    "\n",
    "The goal of this project is gain insight on homelessness using the tools you have learned so far in this class.\n",
    "\n",
    "### The Data ###\n",
    "\n",
    "You can use any data you can find to answer the questions below (note that the website for the ASA challenge contains links to various datasets), but you need to specify the provenance of the data in your report. \n",
    "\n",
    "One interesting question is on the city-level homelessness estimates, and we will begin by using data corresponding to \"Continuums of Care\" (CoC), which are local planning bodies responsible for coordinating the full range of homelessness services in a geographic area, which may cover a city, county, metropolitan area, or an entire state.\" To this end, we have downloaded the files [2007 - 2018 Point-in-Time Estimates by CoC](https://www.hudexchange.info/resources/documents/2007-2018-HIC-Counts-by-CoC.xlsx) and [2007 - 2018 Housing Inventory Count by CoC](https://www.hudexchange.info/resources/documents/2007-2018-PIT-Counts-by-CoC.xlsx) from the linked resources page. These are Excel files with separate tabs for each year - to make it easier on you, we've aggregated all the years into one file and selected some important columns. \n",
    "\n",
    "We saved the results into files that can be downloaded from Canvas. If some of the columns/data require more information, you can find it in the files available from HUD. Note that not all columns of data were available in all years.\n",
    "\n",
    "You should go back to the original datasets and import more data if they are relevant for your analyses.\n",
    "\n",
    "#### The next cell that contains code that will allow you to read the data into a tables called \"pit_table\" and \"beds_table\". It also shows the first 10 rows. ####"
   ]
  },
  {
   "cell_type": "code",
   "execution_count": null,
   "metadata": {
    "scrolled": true
   },
   "outputs": [],
   "source": [
    "pit_table=Table.read_table('2007-2018-PIT-Counts-by-CoC.csv')\n",
    "beds_table=Table.read_table('2007-2018-Bed-Counts-by-CoC.csv')\n",
    "pit_table"
   ]
  },
  {
   "cell_type": "code",
   "execution_count": null,
   "metadata": {
    "scrolled": true
   },
   "outputs": [],
   "source": [
    "# ES=Emergency Shelter, TH=Transitional Housing, SH= Safe Haven\n",
    "beds_table"
   ]
  },
  {
   "cell_type": "code",
   "execution_count": null,
   "metadata": {},
   "outputs": [],
   "source": [
    "# the function isnan in the numpy library allows you to count the number of missing values in an array\n",
    "# you can use it to investigate missing data in each column\n",
    "sum(np.isnan(beds_table.column('Total Year-Round Beds (SH)')))"
   ]
  },
  {
   "cell_type": "markdown",
   "metadata": {},
   "source": [
    "## The Assignment##\n",
    "\n",
    "### Report on your findings on homelessness. Can you suggest interventions or policies for  helping solve homelessness? You must submit two files: ###\n",
    "\n",
    "1. The Jupyter Notebook that contains all the code you use for the analysis. You do not need to submit data you used, but just indicate how you obtained it in the Notebook.\n",
    "\n",
    "2. A PDF report of your findings. **This report should be at most 4 pages long, with at most two pages of text.** Use data visualization and data summaries to justify your conclusions.\n",
    "\n",
    "The report should answer at the minimum the following questions:\n",
    "\n",
    "A.  Are there any temporal patterns in the number of homeless people in Chicago and in Los Angeles?\n",
    "\n",
    "B.  Are there any spatial patterns in the number of homeless people? (Northern versus Southern states, Midwest versus the Coasts)\n",
    "\n",
    "C. Are there any patterns in the bed inventory data?\n",
    "\n",
    "D. How does beds availability affect homelessness?\n",
    "\n",
    "E. What are possible ways to reduce and resolve the homelessness crisis?"
   ]
  },
  {
   "cell_type": "code",
   "execution_count": null,
   "metadata": {},
   "outputs": [],
   "source": []
  }
 ],
 "metadata": {
  "kernelspec": {
   "display_name": "Python 3",
   "language": "python",
   "name": "python3"
  },
  "language_info": {
   "codemirror_mode": {
    "name": "ipython",
    "version": 3
   },
   "file_extension": ".py",
   "mimetype": "text/x-python",
   "name": "python",
   "nbconvert_exporter": "python",
   "pygments_lexer": "ipython3",
   "version": "3.7.2"
  }
 },
 "nbformat": 4,
 "nbformat_minor": 2
}
